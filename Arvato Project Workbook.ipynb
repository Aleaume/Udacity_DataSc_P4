{
 "cells": [
  {
   "cell_type": "markdown",
   "metadata": {},
   "source": [
    "# Capstone Project: Create a Customer Segmentation Report for Arvato Financial Services\n",
    "\n",
    "In this project, you will analyze demographics data for customers of a mail-order sales company in Germany, comparing it against demographics information for the general population. You'll use unsupervised learning techniques to perform customer segmentation, identifying the parts of the population that best describe the core customer base of the company. Then, you'll apply what you've learned on a third dataset with demographics information for targets of a marketing campaign for the company, and use a model to predict which individuals are most likely to convert into becoming customers for the company. The data that you will use has been provided by our partners at Bertelsmann Arvato Analytics, and represents a real-life data science task.\n",
    "\n",
    "The versions of those two datasets used in this project will include many more features and has not been pre-cleaned. You are also free to choose whatever approach you'd like to analyzing the data rather than follow pre-determined steps. In your work on this project, make sure that you carefully document your steps and decisions, since your main deliverable for this project will be a blog post reporting your findings."
   ]
  },
  {
   "cell_type": "code",
   "execution_count": 4,
   "metadata": {},
   "outputs": [],
   "source": [
    "# import libraries here; add more as necessary\n",
    "import numpy as np\n",
    "import pandas as pd\n",
    "import matplotlib.pyplot as plt\n",
    "import seaborn as sns\n",
    "from sklearn.preprocessing import StandardScaler\n",
    "from sklearn.impute import SimpleImputer\n",
    "from sklearn import preprocessing\n",
    "from datetime import datetime\n",
    "from sklearn.decomposition import PCA\n",
    "\n",
    "\n",
    "# magic word for producing visualizations in notebook\n",
    "%matplotlib inline"
   ]
  },
  {
   "cell_type": "markdown",
   "metadata": {},
   "source": [
    "## Part 0: Get to Know the Data\n",
    "\n",
    "There are four data files associated with this project:\n",
    "\n",
    "- `Udacity_AZDIAS_052018.csv`: Demographics data for the general population of Germany; 891 211 persons (rows) x 366 features (columns).\n",
    "- `Udacity_CUSTOMERS_052018.csv`: Demographics data for customers of a mail-order company; 191 652 persons (rows) x 369 features (columns).\n",
    "- `Udacity_MAILOUT_052018_TRAIN.csv`: Demographics data for individuals who were targets of a marketing campaign; 42 982 persons (rows) x 367 (columns).\n",
    "- `Udacity_MAILOUT_052018_TEST.csv`: Demographics data for individuals who were targets of a marketing campaign; 42 833 persons (rows) x 366 (columns).\n",
    "\n",
    "Each row of the demographics files represents a single person, but also includes information outside of individuals, including information about their household, building, and neighborhood. Use the information from the first two files to figure out how customers (\"CUSTOMERS\") are similar to or differ from the general population at large (\"AZDIAS\"), then use your analysis to make predictions on the other two files (\"MAILOUT\"), predicting which recipients are most likely to become a customer for the mail-order company.\n",
    "\n",
    "The \"CUSTOMERS\" file contains three extra columns ('CUSTOMER_GROUP', 'ONLINE_PURCHASE', and 'PRODUCT_GROUP'), which provide broad information about the customers depicted in the file. The original \"MAILOUT\" file included one additional column, \"RESPONSE\", which indicated whether or not each recipient became a customer of the company. For the \"TRAIN\" subset, this column has been retained, but in the \"TEST\" subset it has been removed; it is against that withheld column that your final predictions will be assessed in the Kaggle competition.\n",
    "\n",
    "Otherwise, all of the remaining columns are the same between the three data files. For more information about the columns depicted in the files, you can refer to two Excel spreadsheets provided in the workspace. [One of them](./DIAS Information Levels - Attributes 2017.xlsx) is a top-level list of attributes and descriptions, organized by informational category. [The other](./DIAS Attributes - Values 2017.xlsx) is a detailed mapping of data values for each feature in alphabetical order.\n",
    "\n",
    "In the below cell, we've provided some initial code to load in the first two datasets. Note for all of the `.csv` data files in this project that they're semicolon (`;`) delimited, so an additional argument in the [`read_csv()`](https://pandas.pydata.org/pandas-docs/stable/generated/pandas.read_csv.html) call has been included to read in the data properly. Also, considering the size of the datasets, it may take some time for them to load completely.\n",
    "\n",
    "You'll notice when the data is loaded in that a warning message will immediately pop up. Before you really start digging into the modeling and analysis, you're going to need to perform some cleaning. Take some time to browse the structure of the data and look over the informational spreadsheets to understand the data values. Make some decisions on which features to keep, which features to drop, and if any revisions need to be made on data formats. It'll be a good idea to create a function with pre-processing steps, since you'll need to clean all of the datasets before you work with them."
   ]
  },
  {
   "cell_type": "code",
   "execution_count": 5,
   "metadata": {},
   "outputs": [
    {
     "name": "stderr",
     "output_type": "stream",
     "text": [
      "C:\\Users\\Ali\\AppData\\Local\\Temp\\ipykernel_17612\\1960795267.py:2: DtypeWarning: Columns (18,19) have mixed types. Specify dtype option on import or set low_memory=False.\n",
      "  azdias = pd.read_csv('arvato_data/Udacity_AZDIAS_052018.csv', sep=';')\n",
      "C:\\Users\\Ali\\AppData\\Local\\Temp\\ipykernel_17612\\1960795267.py:3: DtypeWarning: Columns (18,19) have mixed types. Specify dtype option on import or set low_memory=False.\n",
      "  customers = pd.read_csv('arvato_data/Udacity_CUSTOMERS_052018.csv', sep=';')\n"
     ]
    }
   ],
   "source": [
    "# load in the data\n",
    "azdias = pd.read_csv('arvato_data/Udacity_AZDIAS_052018.csv', sep=';')\n",
    "customers = pd.read_csv('arvato_data/Udacity_CUSTOMERS_052018.csv', sep=';')"
   ]
  },
  {
   "attachments": {},
   "cell_type": "markdown",
   "metadata": {},
   "source": [
    "**Assessing Data**"
   ]
  },
  {
   "cell_type": "code",
   "execution_count": 6,
   "metadata": {},
   "outputs": [
    {
     "data": {
      "text/html": [
       "<div>\n",
       "<style scoped>\n",
       "    .dataframe tbody tr th:only-of-type {\n",
       "        vertical-align: middle;\n",
       "    }\n",
       "\n",
       "    .dataframe tbody tr th {\n",
       "        vertical-align: top;\n",
       "    }\n",
       "\n",
       "    .dataframe thead th {\n",
       "        text-align: right;\n",
       "    }\n",
       "</style>\n",
       "<table border=\"1\" class=\"dataframe\">\n",
       "  <thead>\n",
       "    <tr style=\"text-align: right;\">\n",
       "      <th></th>\n",
       "      <th>LNR</th>\n",
       "      <th>AGER_TYP</th>\n",
       "      <th>AKT_DAT_KL</th>\n",
       "      <th>ALTER_HH</th>\n",
       "      <th>ALTER_KIND1</th>\n",
       "      <th>ALTER_KIND2</th>\n",
       "      <th>ALTER_KIND3</th>\n",
       "      <th>ALTER_KIND4</th>\n",
       "      <th>ALTERSKATEGORIE_FEIN</th>\n",
       "      <th>ANZ_HAUSHALTE_AKTIV</th>\n",
       "      <th>...</th>\n",
       "      <th>VHN</th>\n",
       "      <th>VK_DHT4A</th>\n",
       "      <th>VK_DISTANZ</th>\n",
       "      <th>VK_ZG11</th>\n",
       "      <th>W_KEIT_KIND_HH</th>\n",
       "      <th>WOHNDAUER_2008</th>\n",
       "      <th>WOHNLAGE</th>\n",
       "      <th>ZABEOTYP</th>\n",
       "      <th>ANREDE_KZ</th>\n",
       "      <th>ALTERSKATEGORIE_GROB</th>\n",
       "    </tr>\n",
       "  </thead>\n",
       "  <tbody>\n",
       "    <tr>\n",
       "      <th>0</th>\n",
       "      <td>910215</td>\n",
       "      <td>-1</td>\n",
       "      <td>NaN</td>\n",
       "      <td>NaN</td>\n",
       "      <td>NaN</td>\n",
       "      <td>NaN</td>\n",
       "      <td>NaN</td>\n",
       "      <td>NaN</td>\n",
       "      <td>NaN</td>\n",
       "      <td>NaN</td>\n",
       "      <td>...</td>\n",
       "      <td>NaN</td>\n",
       "      <td>NaN</td>\n",
       "      <td>NaN</td>\n",
       "      <td>NaN</td>\n",
       "      <td>NaN</td>\n",
       "      <td>NaN</td>\n",
       "      <td>NaN</td>\n",
       "      <td>3</td>\n",
       "      <td>1</td>\n",
       "      <td>2</td>\n",
       "    </tr>\n",
       "    <tr>\n",
       "      <th>1</th>\n",
       "      <td>910220</td>\n",
       "      <td>-1</td>\n",
       "      <td>9.0</td>\n",
       "      <td>0.0</td>\n",
       "      <td>NaN</td>\n",
       "      <td>NaN</td>\n",
       "      <td>NaN</td>\n",
       "      <td>NaN</td>\n",
       "      <td>21.0</td>\n",
       "      <td>11.0</td>\n",
       "      <td>...</td>\n",
       "      <td>4.0</td>\n",
       "      <td>8.0</td>\n",
       "      <td>11.0</td>\n",
       "      <td>10.0</td>\n",
       "      <td>3.0</td>\n",
       "      <td>9.0</td>\n",
       "      <td>4.0</td>\n",
       "      <td>5</td>\n",
       "      <td>2</td>\n",
       "      <td>1</td>\n",
       "    </tr>\n",
       "    <tr>\n",
       "      <th>2</th>\n",
       "      <td>910225</td>\n",
       "      <td>-1</td>\n",
       "      <td>9.0</td>\n",
       "      <td>17.0</td>\n",
       "      <td>NaN</td>\n",
       "      <td>NaN</td>\n",
       "      <td>NaN</td>\n",
       "      <td>NaN</td>\n",
       "      <td>17.0</td>\n",
       "      <td>10.0</td>\n",
       "      <td>...</td>\n",
       "      <td>2.0</td>\n",
       "      <td>9.0</td>\n",
       "      <td>9.0</td>\n",
       "      <td>6.0</td>\n",
       "      <td>3.0</td>\n",
       "      <td>9.0</td>\n",
       "      <td>2.0</td>\n",
       "      <td>5</td>\n",
       "      <td>2</td>\n",
       "      <td>3</td>\n",
       "    </tr>\n",
       "    <tr>\n",
       "      <th>3</th>\n",
       "      <td>910226</td>\n",
       "      <td>2</td>\n",
       "      <td>1.0</td>\n",
       "      <td>13.0</td>\n",
       "      <td>NaN</td>\n",
       "      <td>NaN</td>\n",
       "      <td>NaN</td>\n",
       "      <td>NaN</td>\n",
       "      <td>13.0</td>\n",
       "      <td>1.0</td>\n",
       "      <td>...</td>\n",
       "      <td>0.0</td>\n",
       "      <td>7.0</td>\n",
       "      <td>10.0</td>\n",
       "      <td>11.0</td>\n",
       "      <td>NaN</td>\n",
       "      <td>9.0</td>\n",
       "      <td>7.0</td>\n",
       "      <td>3</td>\n",
       "      <td>2</td>\n",
       "      <td>4</td>\n",
       "    </tr>\n",
       "    <tr>\n",
       "      <th>4</th>\n",
       "      <td>910241</td>\n",
       "      <td>-1</td>\n",
       "      <td>1.0</td>\n",
       "      <td>20.0</td>\n",
       "      <td>NaN</td>\n",
       "      <td>NaN</td>\n",
       "      <td>NaN</td>\n",
       "      <td>NaN</td>\n",
       "      <td>14.0</td>\n",
       "      <td>3.0</td>\n",
       "      <td>...</td>\n",
       "      <td>2.0</td>\n",
       "      <td>3.0</td>\n",
       "      <td>5.0</td>\n",
       "      <td>4.0</td>\n",
       "      <td>2.0</td>\n",
       "      <td>9.0</td>\n",
       "      <td>3.0</td>\n",
       "      <td>4</td>\n",
       "      <td>1</td>\n",
       "      <td>3</td>\n",
       "    </tr>\n",
       "  </tbody>\n",
       "</table>\n",
       "<p>5 rows × 366 columns</p>\n",
       "</div>"
      ],
      "text/plain": [
       "      LNR  AGER_TYP  AKT_DAT_KL  ALTER_HH  ALTER_KIND1  ALTER_KIND2  \\\n",
       "0  910215        -1         NaN       NaN          NaN          NaN   \n",
       "1  910220        -1         9.0       0.0          NaN          NaN   \n",
       "2  910225        -1         9.0      17.0          NaN          NaN   \n",
       "3  910226         2         1.0      13.0          NaN          NaN   \n",
       "4  910241        -1         1.0      20.0          NaN          NaN   \n",
       "\n",
       "   ALTER_KIND3  ALTER_KIND4  ALTERSKATEGORIE_FEIN  ANZ_HAUSHALTE_AKTIV  ...  \\\n",
       "0          NaN          NaN                   NaN                  NaN  ...   \n",
       "1          NaN          NaN                  21.0                 11.0  ...   \n",
       "2          NaN          NaN                  17.0                 10.0  ...   \n",
       "3          NaN          NaN                  13.0                  1.0  ...   \n",
       "4          NaN          NaN                  14.0                  3.0  ...   \n",
       "\n",
       "   VHN  VK_DHT4A  VK_DISTANZ  VK_ZG11  W_KEIT_KIND_HH  WOHNDAUER_2008  \\\n",
       "0  NaN       NaN         NaN      NaN             NaN             NaN   \n",
       "1  4.0       8.0        11.0     10.0             3.0             9.0   \n",
       "2  2.0       9.0         9.0      6.0             3.0             9.0   \n",
       "3  0.0       7.0        10.0     11.0             NaN             9.0   \n",
       "4  2.0       3.0         5.0      4.0             2.0             9.0   \n",
       "\n",
       "   WOHNLAGE ZABEOTYP ANREDE_KZ ALTERSKATEGORIE_GROB  \n",
       "0       NaN        3         1                    2  \n",
       "1       4.0        5         2                    1  \n",
       "2       2.0        5         2                    3  \n",
       "3       7.0        3         2                    4  \n",
       "4       3.0        4         1                    3  \n",
       "\n",
       "[5 rows x 366 columns]"
      ]
     },
     "execution_count": 6,
     "metadata": {},
     "output_type": "execute_result"
    }
   ],
   "source": [
    "azdias.head()"
   ]
  },
  {
   "cell_type": "code",
   "execution_count": 7,
   "metadata": {},
   "outputs": [
    {
     "data": {
      "text/html": [
       "<div>\n",
       "<style scoped>\n",
       "    .dataframe tbody tr th:only-of-type {\n",
       "        vertical-align: middle;\n",
       "    }\n",
       "\n",
       "    .dataframe tbody tr th {\n",
       "        vertical-align: top;\n",
       "    }\n",
       "\n",
       "    .dataframe thead th {\n",
       "        text-align: right;\n",
       "    }\n",
       "</style>\n",
       "<table border=\"1\" class=\"dataframe\">\n",
       "  <thead>\n",
       "    <tr style=\"text-align: right;\">\n",
       "      <th></th>\n",
       "      <th>LNR</th>\n",
       "      <th>AGER_TYP</th>\n",
       "      <th>AKT_DAT_KL</th>\n",
       "      <th>ALTER_HH</th>\n",
       "      <th>ALTER_KIND1</th>\n",
       "      <th>ALTER_KIND2</th>\n",
       "      <th>ALTER_KIND3</th>\n",
       "      <th>ALTER_KIND4</th>\n",
       "      <th>ALTERSKATEGORIE_FEIN</th>\n",
       "      <th>ANZ_HAUSHALTE_AKTIV</th>\n",
       "      <th>...</th>\n",
       "      <th>VK_ZG11</th>\n",
       "      <th>W_KEIT_KIND_HH</th>\n",
       "      <th>WOHNDAUER_2008</th>\n",
       "      <th>WOHNLAGE</th>\n",
       "      <th>ZABEOTYP</th>\n",
       "      <th>PRODUCT_GROUP</th>\n",
       "      <th>CUSTOMER_GROUP</th>\n",
       "      <th>ONLINE_PURCHASE</th>\n",
       "      <th>ANREDE_KZ</th>\n",
       "      <th>ALTERSKATEGORIE_GROB</th>\n",
       "    </tr>\n",
       "  </thead>\n",
       "  <tbody>\n",
       "    <tr>\n",
       "      <th>0</th>\n",
       "      <td>9626</td>\n",
       "      <td>2</td>\n",
       "      <td>1.0</td>\n",
       "      <td>10.0</td>\n",
       "      <td>NaN</td>\n",
       "      <td>NaN</td>\n",
       "      <td>NaN</td>\n",
       "      <td>NaN</td>\n",
       "      <td>10.0</td>\n",
       "      <td>1.0</td>\n",
       "      <td>...</td>\n",
       "      <td>2.0</td>\n",
       "      <td>6.0</td>\n",
       "      <td>9.0</td>\n",
       "      <td>7.0</td>\n",
       "      <td>3</td>\n",
       "      <td>COSMETIC_AND_FOOD</td>\n",
       "      <td>MULTI_BUYER</td>\n",
       "      <td>0</td>\n",
       "      <td>1</td>\n",
       "      <td>4</td>\n",
       "    </tr>\n",
       "    <tr>\n",
       "      <th>1</th>\n",
       "      <td>9628</td>\n",
       "      <td>-1</td>\n",
       "      <td>9.0</td>\n",
       "      <td>11.0</td>\n",
       "      <td>NaN</td>\n",
       "      <td>NaN</td>\n",
       "      <td>NaN</td>\n",
       "      <td>NaN</td>\n",
       "      <td>NaN</td>\n",
       "      <td>NaN</td>\n",
       "      <td>...</td>\n",
       "      <td>3.0</td>\n",
       "      <td>0.0</td>\n",
       "      <td>9.0</td>\n",
       "      <td>NaN</td>\n",
       "      <td>3</td>\n",
       "      <td>FOOD</td>\n",
       "      <td>SINGLE_BUYER</td>\n",
       "      <td>0</td>\n",
       "      <td>1</td>\n",
       "      <td>4</td>\n",
       "    </tr>\n",
       "    <tr>\n",
       "      <th>2</th>\n",
       "      <td>143872</td>\n",
       "      <td>-1</td>\n",
       "      <td>1.0</td>\n",
       "      <td>6.0</td>\n",
       "      <td>NaN</td>\n",
       "      <td>NaN</td>\n",
       "      <td>NaN</td>\n",
       "      <td>NaN</td>\n",
       "      <td>0.0</td>\n",
       "      <td>1.0</td>\n",
       "      <td>...</td>\n",
       "      <td>11.0</td>\n",
       "      <td>6.0</td>\n",
       "      <td>9.0</td>\n",
       "      <td>2.0</td>\n",
       "      <td>3</td>\n",
       "      <td>COSMETIC_AND_FOOD</td>\n",
       "      <td>MULTI_BUYER</td>\n",
       "      <td>0</td>\n",
       "      <td>2</td>\n",
       "      <td>4</td>\n",
       "    </tr>\n",
       "    <tr>\n",
       "      <th>3</th>\n",
       "      <td>143873</td>\n",
       "      <td>1</td>\n",
       "      <td>1.0</td>\n",
       "      <td>8.0</td>\n",
       "      <td>NaN</td>\n",
       "      <td>NaN</td>\n",
       "      <td>NaN</td>\n",
       "      <td>NaN</td>\n",
       "      <td>8.0</td>\n",
       "      <td>0.0</td>\n",
       "      <td>...</td>\n",
       "      <td>2.0</td>\n",
       "      <td>NaN</td>\n",
       "      <td>9.0</td>\n",
       "      <td>7.0</td>\n",
       "      <td>1</td>\n",
       "      <td>COSMETIC</td>\n",
       "      <td>MULTI_BUYER</td>\n",
       "      <td>0</td>\n",
       "      <td>1</td>\n",
       "      <td>4</td>\n",
       "    </tr>\n",
       "    <tr>\n",
       "      <th>4</th>\n",
       "      <td>143874</td>\n",
       "      <td>-1</td>\n",
       "      <td>1.0</td>\n",
       "      <td>20.0</td>\n",
       "      <td>NaN</td>\n",
       "      <td>NaN</td>\n",
       "      <td>NaN</td>\n",
       "      <td>NaN</td>\n",
       "      <td>14.0</td>\n",
       "      <td>7.0</td>\n",
       "      <td>...</td>\n",
       "      <td>4.0</td>\n",
       "      <td>2.0</td>\n",
       "      <td>9.0</td>\n",
       "      <td>3.0</td>\n",
       "      <td>1</td>\n",
       "      <td>FOOD</td>\n",
       "      <td>MULTI_BUYER</td>\n",
       "      <td>0</td>\n",
       "      <td>1</td>\n",
       "      <td>3</td>\n",
       "    </tr>\n",
       "  </tbody>\n",
       "</table>\n",
       "<p>5 rows × 369 columns</p>\n",
       "</div>"
      ],
      "text/plain": [
       "      LNR  AGER_TYP  AKT_DAT_KL  ALTER_HH  ALTER_KIND1  ALTER_KIND2  \\\n",
       "0    9626         2         1.0      10.0          NaN          NaN   \n",
       "1    9628        -1         9.0      11.0          NaN          NaN   \n",
       "2  143872        -1         1.0       6.0          NaN          NaN   \n",
       "3  143873         1         1.0       8.0          NaN          NaN   \n",
       "4  143874        -1         1.0      20.0          NaN          NaN   \n",
       "\n",
       "   ALTER_KIND3  ALTER_KIND4  ALTERSKATEGORIE_FEIN  ANZ_HAUSHALTE_AKTIV  ...  \\\n",
       "0          NaN          NaN                  10.0                  1.0  ...   \n",
       "1          NaN          NaN                   NaN                  NaN  ...   \n",
       "2          NaN          NaN                   0.0                  1.0  ...   \n",
       "3          NaN          NaN                   8.0                  0.0  ...   \n",
       "4          NaN          NaN                  14.0                  7.0  ...   \n",
       "\n",
       "   VK_ZG11  W_KEIT_KIND_HH  WOHNDAUER_2008  WOHNLAGE  ZABEOTYP  \\\n",
       "0      2.0             6.0             9.0       7.0         3   \n",
       "1      3.0             0.0             9.0       NaN         3   \n",
       "2     11.0             6.0             9.0       2.0         3   \n",
       "3      2.0             NaN             9.0       7.0         1   \n",
       "4      4.0             2.0             9.0       3.0         1   \n",
       "\n",
       "       PRODUCT_GROUP  CUSTOMER_GROUP ONLINE_PURCHASE ANREDE_KZ  \\\n",
       "0  COSMETIC_AND_FOOD     MULTI_BUYER               0         1   \n",
       "1               FOOD    SINGLE_BUYER               0         1   \n",
       "2  COSMETIC_AND_FOOD     MULTI_BUYER               0         2   \n",
       "3           COSMETIC     MULTI_BUYER               0         1   \n",
       "4               FOOD     MULTI_BUYER               0         1   \n",
       "\n",
       "  ALTERSKATEGORIE_GROB  \n",
       "0                    4  \n",
       "1                    4  \n",
       "2                    4  \n",
       "3                    4  \n",
       "4                    3  \n",
       "\n",
       "[5 rows x 369 columns]"
      ]
     },
     "execution_count": 7,
     "metadata": {},
     "output_type": "execute_result"
    }
   ],
   "source": [
    "customers.head()"
   ]
  },
  {
   "attachments": {},
   "cell_type": "markdown",
   "metadata": {},
   "source": [
    "**Identification of data types**"
   ]
  },
  {
   "cell_type": "code",
   "execution_count": 8,
   "metadata": {},
   "outputs": [
    {
     "data": {
      "text/plain": [
       "LNR                       int64\n",
       "AGER_TYP                  int64\n",
       "AKT_DAT_KL              float64\n",
       "ALTER_HH                float64\n",
       "ALTER_KIND1             float64\n",
       "                         ...   \n",
       "PRODUCT_GROUP            object\n",
       "CUSTOMER_GROUP           object\n",
       "ONLINE_PURCHASE           int64\n",
       "ANREDE_KZ                 int64\n",
       "ALTERSKATEGORIE_GROB      int64\n",
       "Length: 369, dtype: object"
      ]
     },
     "execution_count": 8,
     "metadata": {},
     "output_type": "execute_result"
    }
   ],
   "source": [
    "customers.dtypes"
   ]
  },
  {
   "cell_type": "code",
   "execution_count": 9,
   "metadata": {},
   "outputs": [
    {
     "name": "stdout",
     "output_type": "stream",
     "text": [
      "Floats =267 / Objects =8 / Ints =94 / Bools =0 / Datetimes =0\n"
     ]
    }
   ],
   "source": [
    "df_float = customers.select_dtypes('float').columns\n",
    "df_object = customers.select_dtypes('object').columns\n",
    "df_int = customers.select_dtypes('int64').columns\n",
    "df_bool = customers.select_dtypes('bool').columns\n",
    "df_datetime = customers.select_dtypes('datetime64').columns\n",
    "print(\"Floats =\"+ str(df_float.shape[0])+ \" / Objects =\"+str(df_object.shape[0]) +\" / Ints =\"+str(df_int.shape[0])+\" / Bools =\"+ str(df_bool.shape[0])+\" / Datetimes =\"+ str(df_datetime.shape[0]))\n"
   ]
  },
  {
   "cell_type": "code",
   "execution_count": 10,
   "metadata": {},
   "outputs": [
    {
     "data": {
      "text/plain": [
       "Index(['CAMEO_DEU_2015', 'CAMEO_DEUG_2015', 'CAMEO_INTL_2015',\n",
       "       'D19_LETZTER_KAUF_BRANCHE', 'EINGEFUEGT_AM', 'OST_WEST_KZ',\n",
       "       'PRODUCT_GROUP', 'CUSTOMER_GROUP'],\n",
       "      dtype='object')"
      ]
     },
     "execution_count": 10,
     "metadata": {},
     "output_type": "execute_result"
    }
   ],
   "source": [
    "#listing all the object types\n",
    "df_object"
   ]
  },
  {
   "cell_type": "code",
   "execution_count": 11,
   "metadata": {},
   "outputs": [
    {
     "name": "stdout",
     "output_type": "stream",
     "text": [
      "Column CAMEO_DEU_2015 has 46 unique columns has follow \n",
      " ['1A' nan '5D' '4C' '7B' '3B' '1D' '9E' '2D' '4A' '6B' '9D' '8B' '5C' '9C'\n",
      " '4E' '6C' '8C' '8A' '5B' '9B' '3D' '2A' '3C' '5F' '7A' '1E' '2C' '7C'\n",
      " '5A' '2B' '6D' '7E' '5E' '6E' '3A' '9A' '4B' '1C' '1B' '6A' '8D' '7D'\n",
      " '6F' '4D' 'XX']\n",
      "Column CAMEO_DEUG_2015 has 20 unique columns has follow \n",
      " [1.0 nan 5.0 4.0 7.0 3.0 9.0 2.0 6.0 8.0 '6' '3' '8' '9' '2' '4' '1' '7'\n",
      " '5' 'X']\n",
      "Column CAMEO_INTL_2015 has 44 unique columns has follow \n",
      " [13.0 nan 34.0 24.0 41.0 23.0 15.0 55.0 14.0 22.0 43.0 51.0 33.0 25.0 44.0\n",
      " 54.0 32.0 12.0 35.0 31.0 45.0 52.0 '45' '25' '55' '51' '14' '54' '43'\n",
      " '22' '15' '24' '35' '23' '12' '44' '41' '52' '31' '13' '34' '32' '33'\n",
      " 'XX']\n",
      "Column D19_LETZTER_KAUF_BRANCHE has 36 unique columns has follow \n",
      " ['D19_UNBEKANNT' 'D19_BANKEN_GROSS' 'D19_NAHRUNGSERGAENZUNG' 'D19_SCHUHE'\n",
      " 'D19_BUCH_CD' 'D19_DROGERIEARTIKEL' 'D19_SONSTIGE' 'D19_TECHNIK'\n",
      " 'D19_VERSICHERUNGEN' 'D19_TELKO_MOBILE' 'D19_VOLLSORTIMENT' nan\n",
      " 'D19_HAUS_DEKO' 'D19_ENERGIE' 'D19_REISEN' 'D19_BANKEN_LOKAL'\n",
      " 'D19_VERSAND_REST' 'D19_BEKLEIDUNG_REST' 'D19_FREIZEIT'\n",
      " 'D19_BEKLEIDUNG_GEH' 'D19_TELKO_REST' 'D19_SAMMELARTIKEL'\n",
      " 'D19_BANKEN_DIREKT' 'D19_KINDERARTIKEL' 'D19_BANKEN_REST'\n",
      " 'D19_LEBENSMITTEL' 'D19_GARTEN' 'D19_HANDWERK' 'D19_RATGEBER'\n",
      " 'D19_DIGIT_SERV' 'D19_BIO_OEKO' 'D19_BILDUNG' 'D19_WEIN_FEINKOST'\n",
      " 'D19_TIERARTIKEL' 'D19_LOTTO' 'D19_KOSMETIK']\n",
      "Column EINGEFUEGT_AM has 3035 unique columns has follow \n",
      " ['1992-02-12 00:00:00' nan '1992-02-10 00:00:00' ... '2008-04-25 00:00:00'\n",
      " '2005-03-30 00:00:00' '2008-07-14 00:00:00']\n",
      "Column OST_WEST_KZ has 3 unique columns has follow \n",
      " ['W' nan 'O']\n",
      "Column PRODUCT_GROUP has 3 unique columns has follow \n",
      " ['COSMETIC_AND_FOOD' 'FOOD' 'COSMETIC']\n",
      "Column CUSTOMER_GROUP has 2 unique columns has follow \n",
      " ['MULTI_BUYER' 'SINGLE_BUYER']\n"
     ]
    }
   ],
   "source": [
    "for col in df_object:\n",
    "    print('Column {} has {} unique columns has follow \\n {}'.format(col,len(customers[col].unique()),customers[col].unique()))"
   ]
  },
  {
   "attachments": {},
   "cell_type": "markdown",
   "metadata": {},
   "source": [
    "Some cleaning will have to be done on those columns in order to be able to normalize them later."
   ]
  },
  {
   "cell_type": "code",
   "execution_count": 12,
   "metadata": {},
   "outputs": [
    {
     "data": {
      "text/html": [
       "<div>\n",
       "<style scoped>\n",
       "    .dataframe tbody tr th:only-of-type {\n",
       "        vertical-align: middle;\n",
       "    }\n",
       "\n",
       "    .dataframe tbody tr th {\n",
       "        vertical-align: top;\n",
       "    }\n",
       "\n",
       "    .dataframe thead th {\n",
       "        text-align: right;\n",
       "    }\n",
       "</style>\n",
       "<table border=\"1\" class=\"dataframe\">\n",
       "  <thead>\n",
       "    <tr style=\"text-align: right;\">\n",
       "      <th></th>\n",
       "      <th>LNR</th>\n",
       "      <th>AGER_TYP</th>\n",
       "      <th>AKT_DAT_KL</th>\n",
       "      <th>ALTER_HH</th>\n",
       "      <th>ALTER_KIND1</th>\n",
       "      <th>ALTER_KIND2</th>\n",
       "      <th>ALTER_KIND3</th>\n",
       "      <th>ALTER_KIND4</th>\n",
       "      <th>ALTERSKATEGORIE_FEIN</th>\n",
       "      <th>ANZ_HAUSHALTE_AKTIV</th>\n",
       "      <th>...</th>\n",
       "      <th>VK_DHT4A</th>\n",
       "      <th>VK_DISTANZ</th>\n",
       "      <th>VK_ZG11</th>\n",
       "      <th>W_KEIT_KIND_HH</th>\n",
       "      <th>WOHNDAUER_2008</th>\n",
       "      <th>WOHNLAGE</th>\n",
       "      <th>ZABEOTYP</th>\n",
       "      <th>ONLINE_PURCHASE</th>\n",
       "      <th>ANREDE_KZ</th>\n",
       "      <th>ALTERSKATEGORIE_GROB</th>\n",
       "    </tr>\n",
       "  </thead>\n",
       "  <tbody>\n",
       "    <tr>\n",
       "      <th>count</th>\n",
       "      <td>191652.000000</td>\n",
       "      <td>191652.000000</td>\n",
       "      <td>145056.000000</td>\n",
       "      <td>145056.000000</td>\n",
       "      <td>11766.000000</td>\n",
       "      <td>5100.000000</td>\n",
       "      <td>1275.000000</td>\n",
       "      <td>236.000000</td>\n",
       "      <td>139810.000000</td>\n",
       "      <td>141725.000000</td>\n",
       "      <td>...</td>\n",
       "      <td>143781.000000</td>\n",
       "      <td>143781.000000</td>\n",
       "      <td>143781.000000</td>\n",
       "      <td>137910.000000</td>\n",
       "      <td>145056.000000</td>\n",
       "      <td>141725.000000</td>\n",
       "      <td>191652.000000</td>\n",
       "      <td>191652.000000</td>\n",
       "      <td>191652.000000</td>\n",
       "      <td>191652.000000</td>\n",
       "    </tr>\n",
       "    <tr>\n",
       "      <th>mean</th>\n",
       "      <td>95826.500000</td>\n",
       "      <td>0.344359</td>\n",
       "      <td>1.747525</td>\n",
       "      <td>11.352009</td>\n",
       "      <td>12.337243</td>\n",
       "      <td>13.672353</td>\n",
       "      <td>14.647059</td>\n",
       "      <td>15.377119</td>\n",
       "      <td>10.331579</td>\n",
       "      <td>4.965863</td>\n",
       "      <td>...</td>\n",
       "      <td>4.374417</td>\n",
       "      <td>4.564769</td>\n",
       "      <td>3.168868</td>\n",
       "      <td>4.152716</td>\n",
       "      <td>8.646371</td>\n",
       "      <td>3.723133</td>\n",
       "      <td>2.576806</td>\n",
       "      <td>0.090247</td>\n",
       "      <td>1.376432</td>\n",
       "      <td>3.060907</td>\n",
       "    </tr>\n",
       "    <tr>\n",
       "      <th>std</th>\n",
       "      <td>55325.311233</td>\n",
       "      <td>1.391672</td>\n",
       "      <td>1.966334</td>\n",
       "      <td>6.275026</td>\n",
       "      <td>4.006050</td>\n",
       "      <td>3.243335</td>\n",
       "      <td>2.753787</td>\n",
       "      <td>2.307653</td>\n",
       "      <td>4.134828</td>\n",
       "      <td>14.309694</td>\n",
       "      <td>...</td>\n",
       "      <td>2.924355</td>\n",
       "      <td>2.887035</td>\n",
       "      <td>2.233516</td>\n",
       "      <td>1.974375</td>\n",
       "      <td>1.154001</td>\n",
       "      <td>2.095540</td>\n",
       "      <td>1.168486</td>\n",
       "      <td>0.286536</td>\n",
       "      <td>0.484492</td>\n",
       "      <td>1.086254</td>\n",
       "    </tr>\n",
       "    <tr>\n",
       "      <th>min</th>\n",
       "      <td>1.000000</td>\n",
       "      <td>-1.000000</td>\n",
       "      <td>1.000000</td>\n",
       "      <td>0.000000</td>\n",
       "      <td>2.000000</td>\n",
       "      <td>2.000000</td>\n",
       "      <td>5.000000</td>\n",
       "      <td>8.000000</td>\n",
       "      <td>0.000000</td>\n",
       "      <td>0.000000</td>\n",
       "      <td>...</td>\n",
       "      <td>1.000000</td>\n",
       "      <td>1.000000</td>\n",
       "      <td>1.000000</td>\n",
       "      <td>0.000000</td>\n",
       "      <td>1.000000</td>\n",
       "      <td>0.000000</td>\n",
       "      <td>1.000000</td>\n",
       "      <td>0.000000</td>\n",
       "      <td>1.000000</td>\n",
       "      <td>1.000000</td>\n",
       "    </tr>\n",
       "    <tr>\n",
       "      <th>25%</th>\n",
       "      <td>47913.750000</td>\n",
       "      <td>-1.000000</td>\n",
       "      <td>1.000000</td>\n",
       "      <td>8.000000</td>\n",
       "      <td>9.000000</td>\n",
       "      <td>11.000000</td>\n",
       "      <td>13.000000</td>\n",
       "      <td>14.000000</td>\n",
       "      <td>9.000000</td>\n",
       "      <td>1.000000</td>\n",
       "      <td>...</td>\n",
       "      <td>2.000000</td>\n",
       "      <td>2.000000</td>\n",
       "      <td>1.000000</td>\n",
       "      <td>2.000000</td>\n",
       "      <td>9.000000</td>\n",
       "      <td>2.000000</td>\n",
       "      <td>1.000000</td>\n",
       "      <td>0.000000</td>\n",
       "      <td>1.000000</td>\n",
       "      <td>3.000000</td>\n",
       "    </tr>\n",
       "    <tr>\n",
       "      <th>50%</th>\n",
       "      <td>95826.500000</td>\n",
       "      <td>0.000000</td>\n",
       "      <td>1.000000</td>\n",
       "      <td>11.000000</td>\n",
       "      <td>13.000000</td>\n",
       "      <td>14.000000</td>\n",
       "      <td>15.000000</td>\n",
       "      <td>16.000000</td>\n",
       "      <td>10.000000</td>\n",
       "      <td>1.000000</td>\n",
       "      <td>...</td>\n",
       "      <td>4.000000</td>\n",
       "      <td>4.000000</td>\n",
       "      <td>3.000000</td>\n",
       "      <td>5.000000</td>\n",
       "      <td>9.000000</td>\n",
       "      <td>3.000000</td>\n",
       "      <td>3.000000</td>\n",
       "      <td>0.000000</td>\n",
       "      <td>1.000000</td>\n",
       "      <td>3.000000</td>\n",
       "    </tr>\n",
       "    <tr>\n",
       "      <th>75%</th>\n",
       "      <td>143739.250000</td>\n",
       "      <td>2.000000</td>\n",
       "      <td>1.000000</td>\n",
       "      <td>16.000000</td>\n",
       "      <td>16.000000</td>\n",
       "      <td>16.000000</td>\n",
       "      <td>17.000000</td>\n",
       "      <td>17.000000</td>\n",
       "      <td>13.000000</td>\n",
       "      <td>4.000000</td>\n",
       "      <td>...</td>\n",
       "      <td>7.000000</td>\n",
       "      <td>7.000000</td>\n",
       "      <td>4.000000</td>\n",
       "      <td>6.000000</td>\n",
       "      <td>9.000000</td>\n",
       "      <td>5.000000</td>\n",
       "      <td>3.000000</td>\n",
       "      <td>0.000000</td>\n",
       "      <td>2.000000</td>\n",
       "      <td>4.000000</td>\n",
       "    </tr>\n",
       "    <tr>\n",
       "      <th>max</th>\n",
       "      <td>191652.000000</td>\n",
       "      <td>3.000000</td>\n",
       "      <td>9.000000</td>\n",
       "      <td>21.000000</td>\n",
       "      <td>18.000000</td>\n",
       "      <td>18.000000</td>\n",
       "      <td>18.000000</td>\n",
       "      <td>18.000000</td>\n",
       "      <td>25.000000</td>\n",
       "      <td>523.000000</td>\n",
       "      <td>...</td>\n",
       "      <td>11.000000</td>\n",
       "      <td>13.000000</td>\n",
       "      <td>11.000000</td>\n",
       "      <td>6.000000</td>\n",
       "      <td>9.000000</td>\n",
       "      <td>8.000000</td>\n",
       "      <td>6.000000</td>\n",
       "      <td>1.000000</td>\n",
       "      <td>2.000000</td>\n",
       "      <td>9.000000</td>\n",
       "    </tr>\n",
       "  </tbody>\n",
       "</table>\n",
       "<p>8 rows × 361 columns</p>\n",
       "</div>"
      ],
      "text/plain": [
       "                 LNR       AGER_TYP     AKT_DAT_KL       ALTER_HH  \\\n",
       "count  191652.000000  191652.000000  145056.000000  145056.000000   \n",
       "mean    95826.500000       0.344359       1.747525      11.352009   \n",
       "std     55325.311233       1.391672       1.966334       6.275026   \n",
       "min         1.000000      -1.000000       1.000000       0.000000   \n",
       "25%     47913.750000      -1.000000       1.000000       8.000000   \n",
       "50%     95826.500000       0.000000       1.000000      11.000000   \n",
       "75%    143739.250000       2.000000       1.000000      16.000000   \n",
       "max    191652.000000       3.000000       9.000000      21.000000   \n",
       "\n",
       "        ALTER_KIND1  ALTER_KIND2  ALTER_KIND3  ALTER_KIND4  \\\n",
       "count  11766.000000  5100.000000  1275.000000   236.000000   \n",
       "mean      12.337243    13.672353    14.647059    15.377119   \n",
       "std        4.006050     3.243335     2.753787     2.307653   \n",
       "min        2.000000     2.000000     5.000000     8.000000   \n",
       "25%        9.000000    11.000000    13.000000    14.000000   \n",
       "50%       13.000000    14.000000    15.000000    16.000000   \n",
       "75%       16.000000    16.000000    17.000000    17.000000   \n",
       "max       18.000000    18.000000    18.000000    18.000000   \n",
       "\n",
       "       ALTERSKATEGORIE_FEIN  ANZ_HAUSHALTE_AKTIV  ...       VK_DHT4A  \\\n",
       "count         139810.000000        141725.000000  ...  143781.000000   \n",
       "mean              10.331579             4.965863  ...       4.374417   \n",
       "std                4.134828            14.309694  ...       2.924355   \n",
       "min                0.000000             0.000000  ...       1.000000   \n",
       "25%                9.000000             1.000000  ...       2.000000   \n",
       "50%               10.000000             1.000000  ...       4.000000   \n",
       "75%               13.000000             4.000000  ...       7.000000   \n",
       "max               25.000000           523.000000  ...      11.000000   \n",
       "\n",
       "          VK_DISTANZ        VK_ZG11  W_KEIT_KIND_HH  WOHNDAUER_2008  \\\n",
       "count  143781.000000  143781.000000   137910.000000   145056.000000   \n",
       "mean        4.564769       3.168868        4.152716        8.646371   \n",
       "std         2.887035       2.233516        1.974375        1.154001   \n",
       "min         1.000000       1.000000        0.000000        1.000000   \n",
       "25%         2.000000       1.000000        2.000000        9.000000   \n",
       "50%         4.000000       3.000000        5.000000        9.000000   \n",
       "75%         7.000000       4.000000        6.000000        9.000000   \n",
       "max        13.000000      11.000000        6.000000        9.000000   \n",
       "\n",
       "            WOHNLAGE       ZABEOTYP  ONLINE_PURCHASE      ANREDE_KZ  \\\n",
       "count  141725.000000  191652.000000    191652.000000  191652.000000   \n",
       "mean        3.723133       2.576806         0.090247       1.376432   \n",
       "std         2.095540       1.168486         0.286536       0.484492   \n",
       "min         0.000000       1.000000         0.000000       1.000000   \n",
       "25%         2.000000       1.000000         0.000000       1.000000   \n",
       "50%         3.000000       3.000000         0.000000       1.000000   \n",
       "75%         5.000000       3.000000         0.000000       2.000000   \n",
       "max         8.000000       6.000000         1.000000       2.000000   \n",
       "\n",
       "       ALTERSKATEGORIE_GROB  \n",
       "count         191652.000000  \n",
       "mean               3.060907  \n",
       "std                1.086254  \n",
       "min                1.000000  \n",
       "25%                3.000000  \n",
       "50%                3.000000  \n",
       "75%                4.000000  \n",
       "max                9.000000  \n",
       "\n",
       "[8 rows x 361 columns]"
      ]
     },
     "execution_count": 12,
     "metadata": {},
     "output_type": "execute_result"
    }
   ],
   "source": [
    "#looking at numerical values\n",
    "customers.describe()"
   ]
  },
  {
   "attachments": {},
   "cell_type": "markdown",
   "metadata": {},
   "source": [
    "**Looking at missing values**"
   ]
  },
  {
   "cell_type": "code",
   "execution_count": 13,
   "metadata": {},
   "outputs": [
    {
     "data": {
      "text/plain": [
       "HH_EINKOMMEN_SCORE    0.015486\n",
       "CJT_TYP_6             0.016765\n",
       "CJT_TYP_1             0.016765\n",
       "CJT_KATALOGNUTZER     0.016765\n",
       "CJT_GESAMTTYP         0.016765\n",
       "                        ...   \n",
       "KK_KUNDENTYP          0.584064\n",
       "ALTER_KIND1           0.938607\n",
       "ALTER_KIND2           0.973389\n",
       "ALTER_KIND3           0.993347\n",
       "ALTER_KIND4           0.998769\n",
       "Length: 273, dtype: float64"
      ]
     },
     "execution_count": 13,
     "metadata": {},
     "output_type": "execute_result"
    }
   ],
   "source": [
    "#Looking at Missing values\n",
    "\n",
    "df_missing = customers.columns[customers.isnull().any()]\n",
    "df_missing_num = customers[df_missing].isnull().sum()/len(customers)\n",
    "df_missing_num.sort_values(ascending=True, inplace=True)\n",
    "df_missing_num"
   ]
  },
  {
   "cell_type": "code",
   "execution_count": 14,
   "metadata": {},
   "outputs": [
    {
     "data": {
      "text/plain": [
       "Index(['HH_EINKOMMEN_SCORE', 'CJT_TYP_6', 'CJT_TYP_1', 'CJT_KATALOGNUTZER',\n",
       "       'CJT_GESAMTTYP', 'ONLINE_AFFINITAET', 'CJT_TYP_4', 'RETOURTYP_BK_S',\n",
       "       'RT_KEIN_ANREIZ', 'RT_SCHNAEPPCHEN',\n",
       "       ...\n",
       "       'KBA05_MOD8', 'KBA05_ALTER2', 'KBA05_MAXHERST', 'KBA05_ANHANG',\n",
       "       'EXTSEL992', 'KK_KUNDENTYP', 'ALTER_KIND1', 'ALTER_KIND2',\n",
       "       'ALTER_KIND3', 'ALTER_KIND4'],\n",
       "      dtype='object', length=273)"
      ]
     },
     "execution_count": 14,
     "metadata": {},
     "output_type": "execute_result"
    }
   ],
   "source": [
    "df_missing_num.index"
   ]
  },
  {
   "cell_type": "code",
   "execution_count": 17,
   "metadata": {},
   "outputs": [
    {
     "data": {
      "text/plain": [
       "<function matplotlib.pyplot.show(close=None, block=None)>"
      ]
     },
     "execution_count": 17,
     "metadata": {},
     "output_type": "execute_result"
    },
    {
     "data": {
      "image/png": "[encoded data removed]",
      "text/plain": [
       "<Figure size 2000x400 with 1 Axes>"
      ]
     },
     "metadata": {},
     "output_type": "display_data"
    }
   ],
   "source": [
    "#Plotting the missing values\n",
    "ax = df_missing_num.plot(kind=\"bar\", figsize=(20,4));\n",
    "plt.xlabel('Attributes')\n",
    "plt.ylabel('percent of missing value')\n",
    "ax.xaxis.set_visible(False)\n",
    "plt.show"
   ]
  },
  {
   "cell_type": "code",
   "execution_count": 18,
   "metadata": {},
   "outputs": [
    {
     "name": "stdout",
     "output_type": "stream",
     "text": [
      "EXTSEL992       0.444989\n",
      "KK_KUNDENTYP    0.584064\n",
      "ALTER_KIND1     0.938607\n",
      "ALTER_KIND2     0.973389\n",
      "ALTER_KIND3     0.993347\n",
      "ALTER_KIND4     0.998769\n",
      "dtype: float64\n"
     ]
    }
   ],
   "source": [
    "# We can clearly see a few attributes being over 40% empty, this won't be properly usable for ML, hence we can remove them\n",
    "removed_missing = df_missing_num[df_missing_num > 0.4]\n",
    "print(removed_missing)"
   ]
  },
  {
   "cell_type": "code",
   "execution_count": 19,
   "metadata": {},
   "outputs": [
    {
     "data": {
      "text/plain": [
       "LNR                             0.0\n",
       "KBA13_KRSHERST_BMW_BENZ         0.0\n",
       "KBA13_KRSHERST_AUDI_VW          0.0\n",
       "KBA13_KRSAQUOT                  0.0\n",
       "KBA13_KMH_251                   0.0\n",
       "                             ...   \n",
       "KBA05_ANTG2                     0.0\n",
       "ALTERSKATEGORIE_GROB            0.0\n",
       "CAMEO_DEU_2015             0.000657\n",
       "CAMEO_DEUG_2015            0.000657\n",
       "CAMEO_INTL_2015            0.000657\n",
       "Length: 369, dtype: object"
      ]
     },
     "execution_count": 19,
     "metadata": {},
     "output_type": "execute_result"
    }
   ],
   "source": [
    "# After looking at the documentation, it looks like when the information is unknown the categorical values are either set to X, XX, or -1\n",
    "df_unknown = customers.isin(['-1','X','XX'])\n",
    "df_unknown = df_unknown[df_unknown == True].sum()/len(customers)\n",
    "df_unknown.sort_values(ascending=True, inplace=True)\n",
    "df_unknown"
   ]
  },
  {
   "cell_type": "code",
   "execution_count": 20,
   "metadata": {},
   "outputs": [
    {
     "data": {
      "text/plain": [
       "<function matplotlib.pyplot.show(close=None, block=None)>"
      ]
     },
     "execution_count": 20,
     "metadata": {},
     "output_type": "execute_result"
    },
    {
     "data": {
      "image/png": "[encoded data removed]",
      "text/plain": [
       "<Figure size 2000x400 with 1 Axes>"
      ]
     },
     "metadata": {},
     "output_type": "display_data"
    }
   ],
   "source": [
    "#Plotting the unknown values\n",
    "ax = df_unknown.plot(kind=\"bar\", figsize=(20,4));\n",
    "plt.xlabel('Attributes')\n",
    "plt.ylabel('percent of unknwon value')\n",
    "ax.xaxis.set_visible(False)\n",
    "plt.show"
   ]
  },
  {
   "cell_type": "code",
   "execution_count": 23,
   "metadata": {},
   "outputs": [
    {
     "name": "stdout",
     "output_type": "stream",
     "text": [
      "CAMEO_DEU_2015     0.000657\n",
      "CAMEO_DEUG_2015    0.000657\n",
      "CAMEO_INTL_2015    0.000657\n",
      "dtype: object\n"
     ]
    }
   ],
   "source": [
    "# We can clearly see 3 attribute from the rest, let's see which ones\n",
    "removed_unknown = df_unknown[df_unknown > 0.0005]\n",
    "print(removed_unknown)\n"
   ]
  },
  {
   "attachments": {},
   "cell_type": "markdown",
   "metadata": {},
   "source": [
    "Those are already planned to be cleaned in the step."
   ]
  },
  {
   "attachments": {},
   "cell_type": "markdown",
   "metadata": {},
   "source": [
    "**Data Preprocessing**"
   ]
  },
  {
   "cell_type": "code",
   "execution_count": 24,
   "metadata": {},
   "outputs": [
    {
     "name": "stdout",
     "output_type": "stream",
     "text": [
      "Index(['CAMEO_DEU_2015', 'CAMEO_DEUG_2015', 'CAMEO_INTL_2015',\n",
      "       'D19_LETZTER_KAUF_BRANCHE', 'EINGEFUEGT_AM', 'OST_WEST_KZ',\n",
      "       'PRODUCT_GROUP', 'CUSTOMER_GROUP'],\n",
      "      dtype='object')\n"
     ]
    }
   ],
   "source": [
    "# We Clean the object typed attributes\n",
    "# For each we will transform string / categorical values into ints from 0 to n\n",
    "# https://scikit-learn.org/stable/modules/generated/sklearn.preprocessing.LabelEncoder.html\n",
    "print(df_object)\n",
    "le = preprocessing.LabelEncoder()"
   ]
  },
  {
   "cell_type": "code",
   "execution_count": 25,
   "metadata": {},
   "outputs": [
    {
     "name": "stdout",
     "output_type": "stream",
     "text": [
      "['1A' nan '5D' '4C' '7B' '3B' '1D' '9E' '2D' '4A' '6B' '9D' '8B' '5C' '9C'\n",
      " '4E' '6C' '8C' '8A' '5B' '9B' '3D' '2A' '3C' '5F' '7A' '1E' '2C' '7C'\n",
      " '5A' '2B' '6D' '7E' '5E' '6E' '3A' '9A' '4B' '1C' '1B' '6A' '8D' '7D'\n",
      " '6F' '4D' 'XX']\n",
      "[ 0 44 21 15 31 10  3 43  8 13 25 42 36 20 41 17 26 37 35 19 40 12  5 11\n",
      " 23 30  4  7 32 18  6 27 34 22 28  9 39 14  2  1 24 38 33 29 16]\n"
     ]
    }
   ],
   "source": [
    "# CAMEO_DEU_2015\n",
    "print(customers.CAMEO_DEU_2015.unique())\n",
    "customers['CAMEO_DEU_2015'] = customers['CAMEO_DEU_2015'].replace(np.nan, 'XX')\n",
    "customers['CAMEO_DEU_2015'] = le.fit_transform(customers['CAMEO_DEU_2015'])\n",
    "print(customers.CAMEO_DEU_2015.unique())"
   ]
  },
  {
   "cell_type": "code",
   "execution_count": 26,
   "metadata": {},
   "outputs": [
    {
     "name": "stdout",
     "output_type": "stream",
     "text": [
      "[1.0 nan 5.0 4.0 7.0 3.0 9.0 2.0 6.0 8.0 '6' '3' '8' '9' '2' '4' '1' '7'\n",
      " '5' 'X']\n",
      "[1 0 5 4 7 3 9 2 6 8]\n"
     ]
    }
   ],
   "source": [
    "# CAMEO_DEUG_2015\n",
    "print(customers.CAMEO_DEUG_2015.unique())\n",
    "customers['CAMEO_DEUG_2015'] = customers['CAMEO_DEUG_2015'].replace([np.nan, 'X'], 0)\n",
    "customers['CAMEO_DEUG_2015'] = customers['CAMEO_DEUG_2015'].astype(int)\n",
    "print(customers.CAMEO_DEUG_2015.unique())"
   ]
  },
  {
   "cell_type": "code",
   "execution_count": 27,
   "metadata": {},
   "outputs": [
    {
     "name": "stdout",
     "output_type": "stream",
     "text": [
      "[13.0 nan 34.0 24.0 41.0 23.0 15.0 55.0 14.0 22.0 43.0 51.0 33.0 25.0 44.0\n",
      " 54.0 32.0 12.0 35.0 31.0 45.0 52.0 '45' '25' '55' '51' '14' '54' '43'\n",
      " '22' '15' '24' '35' '23' '12' '44' '41' '52' '31' '13' '34' '32' '33'\n",
      " 'XX']\n",
      "[13  0 34 24 41 23 15 55 14 22 43 51 33 25 44 54 32 12 35 31 45 52]\n"
     ]
    }
   ],
   "source": [
    "# CAMEO_INTL_2015\n",
    "print(customers.CAMEO_INTL_2015.unique())\n",
    "customers['CAMEO_INTL_2015'] = customers['CAMEO_INTL_2015'].replace([np.nan, 'XX'], 0)\n",
    "customers['CAMEO_INTL_2015'] = customers['CAMEO_INTL_2015'].astype(int)\n",
    "print(customers.CAMEO_INTL_2015.unique())"
   ]
  },
  {
   "cell_type": "code",
   "execution_count": 28,
   "metadata": {},
   "outputs": [
    {
     "name": "stdout",
     "output_type": "stream",
     "text": [
      "['D19_UNBEKANNT' 'D19_BANKEN_GROSS' 'D19_NAHRUNGSERGAENZUNG' 'D19_SCHUHE'\n",
      " 'D19_BUCH_CD' 'D19_DROGERIEARTIKEL' 'D19_SONSTIGE' 'D19_TECHNIK'\n",
      " 'D19_VERSICHERUNGEN' 'D19_TELKO_MOBILE' 'D19_VOLLSORTIMENT' nan\n",
      " 'D19_HAUS_DEKO' 'D19_ENERGIE' 'D19_REISEN' 'D19_BANKEN_LOKAL'\n",
      " 'D19_VERSAND_REST' 'D19_BEKLEIDUNG_REST' 'D19_FREIZEIT'\n",
      " 'D19_BEKLEIDUNG_GEH' 'D19_TELKO_REST' 'D19_SAMMELARTIKEL'\n",
      " 'D19_BANKEN_DIREKT' 'D19_KINDERARTIKEL' 'D19_BANKEN_REST'\n",
      " 'D19_LEBENSMITTEL' 'D19_GARTEN' 'D19_HANDWERK' 'D19_RATGEBER'\n",
      " 'D19_DIGIT_SERV' 'D19_BIO_OEKO' 'D19_BILDUNG' 'D19_WEIN_FEINKOST'\n",
      " 'D19_TIERARTIKEL' 'D19_LOTTO' 'D19_KOSMETIK']\n",
      "[30  1 20 24  8 10 25 26 32 27 33 35 15 11 22  2 31  5 12  4 28 23  0 16\n",
      "  3 18 13 14 21  9  7  6 34 29 19 17]\n"
     ]
    }
   ],
   "source": [
    "# D19_LETZTER_KAUF_BRANCHE\n",
    "print(customers.D19_LETZTER_KAUF_BRANCHE.unique())\n",
    "customers['D19_LETZTER_KAUF_BRANCHE'] = le.fit_transform(customers['D19_LETZTER_KAUF_BRANCHE'])\n",
    "print(customers.D19_LETZTER_KAUF_BRANCHE.unique())\n"
   ]
  },
  {
   "cell_type": "code",
   "execution_count": 29,
   "metadata": {},
   "outputs": [
    {
     "name": "stdout",
     "output_type": "stream",
     "text": [
      "['1992-02-12 00:00:00' nan '1992-02-10 00:00:00' ... '2008-04-25 00:00:00'\n",
      " '2005-03-30 00:00:00' '2008-07-14 00:00:00']\n",
      "[1992    0 2004 1997 1995 2007 2005 1996 2012 1994 2008 2003 2006 1993\n",
      " 1998 2015 2011 2000 1999 2009 2010 2002 2014 2001 2013 2016]\n"
     ]
    }
   ],
   "source": [
    "# EINGEFUEGT_AM\n",
    "print(customers.EINGEFUEGT_AM.unique())\n",
    "customers['EINGEFUEGT_AM'] = customers['EINGEFUEGT_AM'].str[:4]\n",
    "customers['EINGEFUEGT_AM'] = customers['EINGEFUEGT_AM'].replace([np.nan], 0)\n",
    "customers['EINGEFUEGT_AM'] = customers['EINGEFUEGT_AM'].astype(int)\n",
    "print(customers['EINGEFUEGT_AM'].unique())"
   ]
  },
  {
   "cell_type": "code",
   "execution_count": 30,
   "metadata": {},
   "outputs": [
    {
     "name": "stdout",
     "output_type": "stream",
     "text": [
      "['W' nan 'O']\n",
      "[1 2 0]\n"
     ]
    }
   ],
   "source": [
    "# OST_WEST_KZ\n",
    "print(customers.OST_WEST_KZ.unique())\n",
    "customers['OST_WEST_KZ'] = customers['OST_WEST_KZ'].replace(np.nan, 'XX')\n",
    "customers['OST_WEST_KZ'] = le.fit_transform(customers['OST_WEST_KZ'])\n",
    "print(customers.OST_WEST_KZ.unique())"
   ]
  },
  {
   "cell_type": "code",
   "execution_count": 31,
   "metadata": {},
   "outputs": [
    {
     "data": {
      "text/plain": [
       "(191652, 360)"
      ]
     },
     "execution_count": 31,
     "metadata": {},
     "output_type": "execute_result"
    }
   ],
   "source": [
    "#dropping missing & unknown cols with >30%\n",
    "customers.drop([col for col in removed_unknown.index], axis=1, inplace=True)\n",
    "customers.drop([col for col in removed_missing.index], axis=1, inplace=True)\n",
    "customers.shape"
   ]
  },
  {
   "cell_type": "code",
   "execution_count": 32,
   "metadata": {},
   "outputs": [],
   "source": [
    "#Removing the customer dataset specific columns (CUSTOMER_GROUP', 'ONLINE_PURCHASE', and 'PRODUCT_GROUP') and the unique identifier for customer 'LNR'\n",
    "customers.drop(columns=['CUSTOMER_GROUP', 'ONLINE_PURCHASE','PRODUCT_GROUP','LNR'], inplace=True)"
   ]
  },
  {
   "cell_type": "code",
   "execution_count": 33,
   "metadata": {},
   "outputs": [
    {
     "name": "stdout",
     "output_type": "stream",
     "text": [
      "12620236 NaN values representing 22.695051326901964% of the dataset\n",
      "0\n"
     ]
    }
   ],
   "source": [
    "#In order to use next steps of the project we now need to get rid of the rest of the NaN values\n",
    "# https://scikit-learn.org/stable/modules/impute.html\n",
    "nan_count = customers.isna().sum().sum()\n",
    "not_null_count = customers.notnull().sum().sum()\n",
    "print('{} NaN values representing {}% of the dataset'.format(nan_count, (nan_count/not_null_count)*100))\n",
    "imputer = SimpleImputer(missing_values=np.nan, strategy='mean')\n",
    "imputer.fit(customers)\n",
    "customers = pd.DataFrame(imputer.transform(customers),columns=customers.columns)\n",
    "print(customers.isna().sum().sum())"
   ]
  },
  {
   "cell_type": "code",
   "execution_count": 34,
   "metadata": {},
   "outputs": [],
   "source": [
    "#Last, we need to normalize the dataset. This will transfrom each column individually in order to have distribution with a mean of 0 and stddev of 1\n",
    "# https://scikit-learn.org/stable/modules/generated/sklearn.preprocessing.StandardScaler.html\n",
    "\n",
    "scaler = StandardScaler()\n",
    "customers_scaled = scaler.fit_transform(customers)\n"
   ]
  },
  {
   "cell_type": "code",
   "execution_count": 35,
   "metadata": {},
   "outputs": [
    {
     "data": {
      "text/plain": [
       "array([[ 1.18968086, -0.43697728, -0.24765912, ...,  0.36217405,\n",
       "        -0.77696529,  0.86452659],\n",
       "       [-0.9660048 ,  4.23954563, -0.0644805 , ...,  0.36217405,\n",
       "        -0.77696529,  0.86452659],\n",
       "       [-0.9660048 , -0.43697728, -0.98037359, ...,  0.36217405,\n",
       "         1.28705878,  0.86452659],\n",
       "       ...,\n",
       "       [ 1.18968086, -0.43697728,  0.66823397, ...,  0.36217405,\n",
       "        -0.77696529,  0.86452659],\n",
       "       [ 1.90824275, -0.43697728,  0.30187674, ...,  0.36217405,\n",
       "         1.28705878, -0.05607109],\n",
       "       [ 1.90824275, -0.43697728, -2.0794453 , ..., -1.34944732,\n",
       "        -0.77696529, -0.97666877]])"
      ]
     },
     "execution_count": 35,
     "metadata": {},
     "output_type": "execute_result"
    }
   ],
   "source": [
    "customers_scaled"
   ]
  },
  {
   "cell_type": "code",
   "execution_count": null,
   "metadata": {},
   "outputs": [],
   "source": [
    "# Be sure to add in a lot more cells (both markdown and code) to document your\n",
    "# approach and findings!"
   ]
  },
  {
   "cell_type": "markdown",
   "metadata": {},
   "source": [
    "## Part 1: Customer Segmentation Report\n",
    "\n",
    "The main bulk of your analysis will come in this part of the project. Here, you should use unsupervised learning techniques to describe the relationship between the demographics of the company's existing customers and the general population of Germany. By the end of this part, you should be able to describe parts of the general population that are more likely to be part of the mail-order company's main customer base, and which parts of the general population are less so."
   ]
  },
  {
   "attachments": {},
   "cell_type": "markdown",
   "metadata": {},
   "source": [
    "**Principal Component Analysis**\n",
    "Due to the fact that the dataset is quite large, we hope to reduce its size by selecting only the components that have the biggest impact on variance.\n"
   ]
  },
  {
   "cell_type": "code",
   "execution_count": 43,
   "metadata": {},
   "outputs": [],
   "source": [
    "pca = PCA()\n",
    "customer_pca = pca.fit_transform(customers_scaled)"
   ]
  },
  {
   "cell_type": "code",
   "execution_count": 44,
   "metadata": {},
   "outputs": [
    {
     "data": {
      "text/plain": [
       "array([3.07060426e+01, 2.06600239e+01, 1.70952463e+01, 1.49268037e+01,\n",
       "       1.22680685e+01, 7.02518923e+00, 6.84265621e+00, 5.60998790e+00,\n",
       "       5.31086760e+00, 5.28505144e+00, 4.62700791e+00, 4.35388784e+00,\n",
       "       4.14766582e+00, 3.94661295e+00, 3.84702734e+00, 3.43797198e+00,\n",
       "       3.27023397e+00, 3.23827449e+00, 3.21559994e+00, 3.05720139e+00,\n",
       "       2.91991675e+00, 2.76574225e+00, 2.69514708e+00, 2.66435544e+00,\n",
       "       2.50072246e+00, 2.44484431e+00, 2.36292026e+00, 2.27772589e+00,\n",
       "       2.20792235e+00, 2.14927929e+00, 2.08703585e+00, 2.02010669e+00,\n",
       "       1.96279148e+00, 1.94127534e+00, 1.89644947e+00, 1.87645716e+00,\n",
       "       1.83487470e+00, 1.76684790e+00, 1.72682169e+00, 1.68174054e+00,\n",
       "       1.66623485e+00, 1.61343731e+00, 1.57460227e+00, 1.55750026e+00,\n",
       "       1.53735234e+00, 1.49244553e+00, 1.46150373e+00, 1.44684052e+00,\n",
       "       1.44105195e+00, 1.38719628e+00, 1.36781448e+00, 1.36111973e+00,\n",
       "       1.34568833e+00, 1.31461065e+00, 1.28894586e+00, 1.27874942e+00,\n",
       "       1.23447407e+00, 1.22141361e+00, 1.18464788e+00, 1.16973472e+00,\n",
       "       1.16430385e+00, 1.15454588e+00, 1.14422947e+00, 1.11716672e+00,\n",
       "       1.10720714e+00, 1.09470292e+00, 1.07743890e+00, 1.06627097e+00,\n",
       "       1.05223064e+00, 1.04727121e+00, 1.03865891e+00, 1.03112326e+00,\n",
       "       1.02019012e+00, 1.01501213e+00, 1.00043886e+00, 9.92222424e-01,\n",
       "       9.85697308e-01, 9.79594972e-01, 9.71344901e-01, 9.67480449e-01,\n",
       "       9.60022369e-01, 9.52198306e-01, 9.43460733e-01, 9.35105599e-01,\n",
       "       9.28400655e-01, 9.17464168e-01, 9.13728846e-01, 9.03706953e-01,\n",
       "       8.98267583e-01, 8.91724519e-01, 8.87514412e-01, 8.83114061e-01,\n",
       "       8.77810165e-01, 8.62682126e-01, 8.57815173e-01, 8.46898113e-01,\n",
       "       8.43032395e-01, 8.36062458e-01, 8.35532103e-01, 8.34437498e-01,\n",
       "       8.25033431e-01, 8.15956439e-01, 8.06308558e-01, 8.00059489e-01,\n",
       "       7.95826946e-01, 7.90136621e-01, 7.89118012e-01, 7.82461563e-01,\n",
       "       7.76296479e-01, 7.71311347e-01, 7.68457598e-01, 7.64346660e-01,\n",
       "       7.57535730e-01, 7.52963932e-01, 7.49323184e-01, 7.46931070e-01,\n",
       "       7.40430993e-01, 7.34913803e-01, 7.30211416e-01, 7.21110143e-01,\n",
       "       7.16805150e-01, 7.08388224e-01, 7.04840769e-01, 6.98832108e-01,\n",
       "       6.97200332e-01, 6.94231921e-01, 6.88920362e-01, 6.85794309e-01,\n",
       "       6.82435641e-01, 6.78932100e-01, 6.74137670e-01, 6.71911557e-01,\n",
       "       6.66559770e-01, 6.64523506e-01, 6.55417872e-01, 6.50372572e-01,\n",
       "       6.47901088e-01, 6.40159335e-01, 6.39443981e-01, 6.36384316e-01,\n",
       "       6.32488753e-01, 6.27664899e-01, 6.23601628e-01, 6.17932829e-01,\n",
       "       6.13642946e-01, 6.05874391e-01, 6.00868424e-01, 5.94027423e-01,\n",
       "       5.93774003e-01, 5.91680943e-01, 5.82635055e-01, 5.77463982e-01,\n",
       "       5.67822112e-01, 5.66039693e-01, 5.61703070e-01, 5.55636240e-01,\n",
       "       5.53458242e-01, 5.46466895e-01, 5.41999994e-01, 5.38987114e-01,\n",
       "       5.38355181e-01, 5.31330780e-01, 5.27384922e-01, 5.24114976e-01,\n",
       "       5.12293842e-01, 5.06737716e-01, 5.02333080e-01, 4.96909836e-01,\n",
       "       4.88109255e-01, 4.76261249e-01, 4.74239371e-01, 4.63913427e-01,\n",
       "       4.59217705e-01, 4.56016003e-01, 4.54235931e-01, 4.50406998e-01,\n",
       "       4.41295082e-01, 4.39050606e-01, 4.36966024e-01, 4.34396029e-01,\n",
       "       4.23256195e-01, 4.20606629e-01, 4.19908083e-01, 4.15801524e-01,\n",
       "       4.13998292e-01, 4.10646160e-01, 4.06954375e-01, 3.95983131e-01,\n",
       "       3.92553891e-01, 3.90209403e-01, 3.85969400e-01, 3.79459822e-01,\n",
       "       3.73613798e-01, 3.69737986e-01, 3.66067177e-01, 3.62892445e-01,\n",
       "       3.57207839e-01, 3.55465751e-01, 3.50815100e-01, 3.49718728e-01,\n",
       "       3.48091077e-01, 3.45752979e-01, 3.42512370e-01, 3.37003730e-01,\n",
       "       3.31840982e-01, 3.30570602e-01, 3.29027546e-01, 3.23596216e-01,\n",
       "       3.19786215e-01, 3.19236978e-01, 3.12163622e-01, 3.10622941e-01,\n",
       "       3.06529155e-01, 3.05856918e-01, 3.03136798e-01, 3.00204455e-01,\n",
       "       2.98853352e-01, 2.92735163e-01, 2.91299111e-01, 2.86351108e-01,\n",
       "       2.83131317e-01, 2.81569742e-01, 2.77757394e-01, 2.74341370e-01,\n",
       "       2.72103296e-01, 2.68094839e-01, 2.65869132e-01, 2.63728111e-01,\n",
       "       2.62410917e-01, 2.61448650e-01, 2.57028720e-01, 2.52838589e-01,\n",
       "       2.47628653e-01, 2.46786185e-01, 2.44327081e-01, 2.39204246e-01,\n",
       "       2.37116842e-01, 2.32157192e-01, 2.28183077e-01, 2.27276621e-01,\n",
       "       2.25933732e-01, 2.24380728e-01, 2.19236985e-01, 2.18428935e-01,\n",
       "       2.15367016e-01, 2.14072608e-01, 2.11986241e-01, 2.09475024e-01,\n",
       "       2.07237952e-01, 2.06738988e-01, 2.05830831e-01, 2.00510008e-01,\n",
       "       1.99015789e-01, 1.94508943e-01, 1.93806195e-01, 1.92737184e-01,\n",
       "       1.88728293e-01, 1.88046859e-01, 1.84502633e-01, 1.82051000e-01,\n",
       "       1.78296202e-01, 1.76201360e-01, 1.75081404e-01, 1.73551698e-01,\n",
       "       1.72206565e-01, 1.70563480e-01, 1.68751431e-01, 1.67792516e-01,\n",
       "       1.64130691e-01, 1.60093108e-01, 1.57725120e-01, 1.54605061e-01,\n",
       "       1.53669546e-01, 1.49597315e-01, 1.47923117e-01, 1.45151439e-01,\n",
       "       1.43508612e-01, 1.41242105e-01, 1.39325893e-01, 1.38935772e-01,\n",
       "       1.37450177e-01, 1.35275868e-01, 1.32145497e-01, 1.31297673e-01,\n",
       "       1.27763024e-01, 1.23467084e-01, 1.22732718e-01, 1.21319080e-01,\n",
       "       1.20204381e-01, 1.18430656e-01, 1.17545633e-01, 1.17250424e-01,\n",
       "       1.15305108e-01, 1.12998426e-01, 1.11562600e-01, 1.09050077e-01,\n",
       "       1.05968815e-01, 1.03906910e-01, 1.03501656e-01, 1.02146415e-01,\n",
       "       1.01551299e-01, 1.00971949e-01, 1.00922301e-01, 9.91536296e-02,\n",
       "       9.84538985e-02, 9.80234851e-02, 9.69131587e-02, 9.59994540e-02,\n",
       "       9.47574884e-02, 9.28603223e-02, 9.11629402e-02, 9.07376450e-02,\n",
       "       9.02314317e-02, 8.96529454e-02, 8.88424085e-02, 8.81942117e-02,\n",
       "       8.71639654e-02, 8.45784567e-02, 8.42034115e-02, 8.32348017e-02,\n",
       "       8.26477657e-02, 8.17357780e-02, 7.99731820e-02, 7.91125957e-02,\n",
       "       7.74791149e-02, 7.64434841e-02, 7.63376810e-02, 7.56418539e-02,\n",
       "       7.18987693e-02, 6.82768725e-02, 6.77078081e-02, 6.58485630e-02,\n",
       "       6.14308126e-02, 5.94957094e-02, 5.75852285e-02, 5.66141486e-02,\n",
       "       5.39521897e-02, 5.25531083e-02, 5.01780860e-02, 4.15267580e-02,\n",
       "       3.99410510e-02, 3.92391871e-02, 3.64057780e-02, 3.26826105e-02,\n",
       "       2.97310798e-02, 2.50732741e-02, 2.20674016e-02, 2.16185076e-02,\n",
       "       1.87268078e-02, 1.39034624e-02, 9.70858084e-03, 9.40273826e-03,\n",
       "       8.61799641e-03, 4.85284323e-03, 1.39423162e-03, 3.42826890e-27])"
      ]
     },
     "execution_count": 44,
     "metadata": {},
     "output_type": "execute_result"
    }
   ],
   "source": [
    "pca.explained_variance_"
   ]
  },
  {
   "cell_type": "code",
   "execution_count": 45,
   "metadata": {},
   "outputs": [
    {
     "data": {
      "text/plain": [
       "array([[ 7.68302631e-02, -2.06232304e-02,  4.78585831e-02, ...,\n",
       "        -7.39807638e-02, -4.79792808e-02,  1.00474799e-01],\n",
       "       [ 6.81520397e-02,  1.76926642e-02, -3.05909209e-02, ...,\n",
       "         2.22770813e-02, -8.18441366e-05,  6.49124696e-02],\n",
       "       [-1.18336031e-02, -8.50070742e-03, -7.13509872e-03, ...,\n",
       "        -5.60929926e-02, -1.79772417e-02, -1.93087376e-02],\n",
       "       ...,\n",
       "       [ 2.56198229e-03, -6.75884982e-04,  4.93401890e-03, ...,\n",
       "        -7.46921632e-04,  2.03478218e-04, -2.34225220e-03],\n",
       "       [-3.23914407e-04,  6.27316051e-05,  2.14727566e-03, ...,\n",
       "        -3.53413417e-04, -5.13061761e-04,  1.93595629e-04],\n",
       "       [-1.48992606e-15,  5.77343668e-18, -1.38661921e-16, ...,\n",
       "        -2.42092675e-17,  6.63992572e-17,  1.05569681e-16]])"
      ]
     },
     "execution_count": 45,
     "metadata": {},
     "output_type": "execute_result"
    }
   ],
   "source": [
    "pca.components_"
   ]
  },
  {
   "cell_type": "code",
   "execution_count": 46,
   "metadata": {},
   "outputs": [
    {
     "data": {
      "image/png": "[encoded data removed]",
      "text/plain": [
       "<Figure size 640x480 with 1 Axes>"
      ]
     },
     "metadata": {},
     "output_type": "display_data"
    }
   ],
   "source": [
    "# We can now look at the cumulative explaine variance ratio\n",
    "plt.plot(np.cumsum(pca.explained_variance_ratio_))\n",
    "plt.xlabel('number of components')\n",
    "plt.ylabel('cumulative explained variance');"
   ]
  },
  {
   "cell_type": "code",
   "execution_count": 47,
   "metadata": {},
   "outputs": [
    {
     "data": {
      "text/plain": [
       "114"
      ]
     },
     "execution_count": 47,
     "metadata": {},
     "output_type": "execute_result"
    }
   ],
   "source": [
    "# In order to maintain 80% of variance check the number of components needed\n",
    "np.count_nonzero(np.cumsum(pca.explained_variance_ratio_)<0.8)"
   ]
  },
  {
   "cell_type": "code",
   "execution_count": 63,
   "metadata": {},
   "outputs": [
    {
     "data": {
      "text/html": [
       "<div>\n",
       "<style scoped>\n",
       "    .dataframe tbody tr th:only-of-type {\n",
       "        vertical-align: middle;\n",
       "    }\n",
       "\n",
       "    .dataframe tbody tr th {\n",
       "        vertical-align: top;\n",
       "    }\n",
       "\n",
       "    .dataframe thead th {\n",
       "        text-align: right;\n",
       "    }\n",
       "</style>\n",
       "<table border=\"1\" class=\"dataframe\">\n",
       "  <thead>\n",
       "    <tr style=\"text-align: right;\">\n",
       "      <th></th>\n",
       "      <th>AGER_TYP</th>\n",
       "      <th>AKT_DAT_KL</th>\n",
       "      <th>ALTER_HH</th>\n",
       "      <th>ALTERSKATEGORIE_FEIN</th>\n",
       "      <th>ANZ_HAUSHALTE_AKTIV</th>\n",
       "      <th>ANZ_HH_TITEL</th>\n",
       "      <th>ANZ_KINDER</th>\n",
       "      <th>ANZ_PERSONEN</th>\n",
       "      <th>ANZ_STATISTISCHE_HAUSHALTE</th>\n",
       "      <th>ANZ_TITEL</th>\n",
       "      <th>...</th>\n",
       "      <th>VHN</th>\n",
       "      <th>VK_DHT4A</th>\n",
       "      <th>VK_DISTANZ</th>\n",
       "      <th>VK_ZG11</th>\n",
       "      <th>W_KEIT_KIND_HH</th>\n",
       "      <th>WOHNDAUER_2008</th>\n",
       "      <th>WOHNLAGE</th>\n",
       "      <th>ZABEOTYP</th>\n",
       "      <th>ANREDE_KZ</th>\n",
       "      <th>ALTERSKATEGORIE_GROB</th>\n",
       "    </tr>\n",
       "  </thead>\n",
       "  <tbody>\n",
       "    <tr>\n",
       "      <th>0</th>\n",
       "      <td>0.076830</td>\n",
       "      <td>-0.020623</td>\n",
       "      <td>0.047859</td>\n",
       "      <td>0.027007</td>\n",
       "      <td>-0.037020</td>\n",
       "      <td>-0.013340</td>\n",
       "      <td>0.022776</td>\n",
       "      <td>0.067984</td>\n",
       "      <td>-0.035608</td>\n",
       "      <td>0.001972</td>\n",
       "      <td>...</td>\n",
       "      <td>-0.023080</td>\n",
       "      <td>-0.071151</td>\n",
       "      <td>-0.061137</td>\n",
       "      <td>-0.047055</td>\n",
       "      <td>-0.048976</td>\n",
       "      <td>0.019467</td>\n",
       "      <td>0.024368</td>\n",
       "      <td>-0.073981</td>\n",
       "      <td>-0.047979</td>\n",
       "      <td>0.100475</td>\n",
       "    </tr>\n",
       "    <tr>\n",
       "      <th>1</th>\n",
       "      <td>0.068152</td>\n",
       "      <td>0.017693</td>\n",
       "      <td>-0.030591</td>\n",
       "      <td>-0.018714</td>\n",
       "      <td>0.069390</td>\n",
       "      <td>0.035814</td>\n",
       "      <td>-0.022630</td>\n",
       "      <td>-0.037608</td>\n",
       "      <td>0.066133</td>\n",
       "      <td>0.012603</td>\n",
       "      <td>...</td>\n",
       "      <td>0.057671</td>\n",
       "      <td>0.028891</td>\n",
       "      <td>0.015032</td>\n",
       "      <td>0.009140</td>\n",
       "      <td>0.042222</td>\n",
       "      <td>-0.018647</td>\n",
       "      <td>-0.098091</td>\n",
       "      <td>0.022277</td>\n",
       "      <td>-0.000082</td>\n",
       "      <td>0.064912</td>\n",
       "    </tr>\n",
       "    <tr>\n",
       "      <th>2</th>\n",
       "      <td>-0.011834</td>\n",
       "      <td>-0.008501</td>\n",
       "      <td>-0.007135</td>\n",
       "      <td>-0.021039</td>\n",
       "      <td>-0.027416</td>\n",
       "      <td>0.005195</td>\n",
       "      <td>-0.002458</td>\n",
       "      <td>0.014187</td>\n",
       "      <td>-0.023806</td>\n",
       "      <td>0.015608</td>\n",
       "      <td>...</td>\n",
       "      <td>0.007207</td>\n",
       "      <td>-0.014649</td>\n",
       "      <td>-0.027925</td>\n",
       "      <td>-0.029962</td>\n",
       "      <td>-0.001506</td>\n",
       "      <td>0.008436</td>\n",
       "      <td>-0.035403</td>\n",
       "      <td>-0.056093</td>\n",
       "      <td>-0.017977</td>\n",
       "      <td>-0.019309</td>\n",
       "    </tr>\n",
       "    <tr>\n",
       "      <th>3</th>\n",
       "      <td>0.015918</td>\n",
       "      <td>0.020722</td>\n",
       "      <td>-0.014530</td>\n",
       "      <td>-0.009999</td>\n",
       "      <td>0.039275</td>\n",
       "      <td>0.002980</td>\n",
       "      <td>-0.005417</td>\n",
       "      <td>-0.021316</td>\n",
       "      <td>0.041635</td>\n",
       "      <td>-0.008243</td>\n",
       "      <td>...</td>\n",
       "      <td>0.001102</td>\n",
       "      <td>0.024665</td>\n",
       "      <td>0.026902</td>\n",
       "      <td>0.024239</td>\n",
       "      <td>0.012458</td>\n",
       "      <td>-0.032827</td>\n",
       "      <td>0.023102</td>\n",
       "      <td>0.023373</td>\n",
       "      <td>0.012370</td>\n",
       "      <td>0.026207</td>\n",
       "    </tr>\n",
       "    <tr>\n",
       "      <th>4</th>\n",
       "      <td>-0.121664</td>\n",
       "      <td>0.023751</td>\n",
       "      <td>0.130359</td>\n",
       "      <td>0.151298</td>\n",
       "      <td>0.005466</td>\n",
       "      <td>-0.001969</td>\n",
       "      <td>0.093085</td>\n",
       "      <td>0.098233</td>\n",
       "      <td>0.003107</td>\n",
       "      <td>0.002544</td>\n",
       "      <td>...</td>\n",
       "      <td>0.000933</td>\n",
       "      <td>-0.118656</td>\n",
       "      <td>-0.055740</td>\n",
       "      <td>0.000460</td>\n",
       "      <td>-0.140319</td>\n",
       "      <td>-0.045041</td>\n",
       "      <td>-0.006300</td>\n",
       "      <td>0.029680</td>\n",
       "      <td>0.032795</td>\n",
       "      <td>-0.131682</td>\n",
       "    </tr>\n",
       "  </tbody>\n",
       "</table>\n",
       "<p>5 rows × 356 columns</p>\n",
       "</div>"
      ],
      "text/plain": [
       "   AGER_TYP  AKT_DAT_KL  ALTER_HH  ALTERSKATEGORIE_FEIN  ANZ_HAUSHALTE_AKTIV  \\\n",
       "0  0.076830   -0.020623  0.047859              0.027007            -0.037020   \n",
       "1  0.068152    0.017693 -0.030591             -0.018714             0.069390   \n",
       "2 -0.011834   -0.008501 -0.007135             -0.021039            -0.027416   \n",
       "3  0.015918    0.020722 -0.014530             -0.009999             0.039275   \n",
       "4 -0.121664    0.023751  0.130359              0.151298             0.005466   \n",
       "\n",
       "   ANZ_HH_TITEL  ANZ_KINDER  ANZ_PERSONEN  ANZ_STATISTISCHE_HAUSHALTE  \\\n",
       "0     -0.013340    0.022776      0.067984                   -0.035608   \n",
       "1      0.035814   -0.022630     -0.037608                    0.066133   \n",
       "2      0.005195   -0.002458      0.014187                   -0.023806   \n",
       "3      0.002980   -0.005417     -0.021316                    0.041635   \n",
       "4     -0.001969    0.093085      0.098233                    0.003107   \n",
       "\n",
       "   ANZ_TITEL  ...       VHN  VK_DHT4A  VK_DISTANZ   VK_ZG11  W_KEIT_KIND_HH  \\\n",
       "0   0.001972  ... -0.023080 -0.071151   -0.061137 -0.047055       -0.048976   \n",
       "1   0.012603  ...  0.057671  0.028891    0.015032  0.009140        0.042222   \n",
       "2   0.015608  ...  0.007207 -0.014649   -0.027925 -0.029962       -0.001506   \n",
       "3  -0.008243  ...  0.001102  0.024665    0.026902  0.024239        0.012458   \n",
       "4   0.002544  ...  0.000933 -0.118656   -0.055740  0.000460       -0.140319   \n",
       "\n",
       "   WOHNDAUER_2008  WOHNLAGE  ZABEOTYP  ANREDE_KZ  ALTERSKATEGORIE_GROB  \n",
       "0        0.019467  0.024368 -0.073981  -0.047979              0.100475  \n",
       "1       -0.018647 -0.098091  0.022277  -0.000082              0.064912  \n",
       "2        0.008436 -0.035403 -0.056093  -0.017977             -0.019309  \n",
       "3       -0.032827  0.023102  0.023373   0.012370              0.026207  \n",
       "4       -0.045041 -0.006300  0.029680   0.032795             -0.131682  \n",
       "\n",
       "[5 rows x 356 columns]"
      ]
     },
     "execution_count": 63,
     "metadata": {},
     "output_type": "execute_result"
    }
   ],
   "source": [
    "# we can now Filter out our dataset to keep only those 114 components\n",
    "\n",
    "pca = PCA(n_components=114)\n",
    "pca.fit(customers_scaled)\n",
    "customers_pca = pca.transform(customers_scaled)\n",
    "customer_pca = pd.DataFrame(pca.components_, columns=customers.columns)\n",
    "customer_pca.head()"
   ]
  },
  {
   "cell_type": "code",
   "execution_count": 64,
   "metadata": {},
   "outputs": [
    {
     "data": {
      "text/plain": [
       "(114, 356)"
      ]
     },
     "execution_count": 64,
     "metadata": {},
     "output_type": "execute_result"
    }
   ],
   "source": [
    "customer_pca.shape"
   ]
  },
  {
   "attachments": {},
   "cell_type": "markdown",
   "metadata": {},
   "source": [
    "**PCA Analysis of top 3 components**"
   ]
  },
  {
   "cell_type": "code",
   "execution_count": 69,
   "metadata": {},
   "outputs": [
    {
     "data": {
      "text/html": [
       "<div>\n",
       "<style scoped>\n",
       "    .dataframe tbody tr th:only-of-type {\n",
       "        vertical-align: middle;\n",
       "    }\n",
       "\n",
       "    .dataframe tbody tr th {\n",
       "        vertical-align: top;\n",
       "    }\n",
       "\n",
       "    .dataframe thead th {\n",
       "        text-align: right;\n",
       "    }\n",
       "</style>\n",
       "<table border=\"1\" class=\"dataframe\">\n",
       "  <thead>\n",
       "    <tr style=\"text-align: right;\">\n",
       "      <th></th>\n",
       "      <th>0</th>\n",
       "      <th>1</th>\n",
       "      <th>2</th>\n",
       "      <th>3</th>\n",
       "      <th>4</th>\n",
       "      <th>5</th>\n",
       "      <th>6</th>\n",
       "      <th>7</th>\n",
       "      <th>8</th>\n",
       "      <th>9</th>\n",
       "      <th>...</th>\n",
       "      <th>104</th>\n",
       "      <th>105</th>\n",
       "      <th>106</th>\n",
       "      <th>107</th>\n",
       "      <th>108</th>\n",
       "      <th>109</th>\n",
       "      <th>110</th>\n",
       "      <th>111</th>\n",
       "      <th>112</th>\n",
       "      <th>113</th>\n",
       "    </tr>\n",
       "  </thead>\n",
       "  <tbody>\n",
       "    <tr>\n",
       "      <th>AGER_TYP</th>\n",
       "      <td>0.076830</td>\n",
       "      <td>0.068152</td>\n",
       "      <td>-0.011834</td>\n",
       "      <td>0.015918</td>\n",
       "      <td>-0.121664</td>\n",
       "      <td>0.009225</td>\n",
       "      <td>-0.007385</td>\n",
       "      <td>-0.039042</td>\n",
       "      <td>-0.070822</td>\n",
       "      <td>0.023407</td>\n",
       "      <td>...</td>\n",
       "      <td>-0.030423</td>\n",
       "      <td>0.001152</td>\n",
       "      <td>0.006995</td>\n",
       "      <td>0.037386</td>\n",
       "      <td>-0.088395</td>\n",
       "      <td>0.017877</td>\n",
       "      <td>0.022929</td>\n",
       "      <td>-0.094739</td>\n",
       "      <td>0.067385</td>\n",
       "      <td>0.036404</td>\n",
       "    </tr>\n",
       "    <tr>\n",
       "      <th>AKT_DAT_KL</th>\n",
       "      <td>-0.020623</td>\n",
       "      <td>0.017693</td>\n",
       "      <td>-0.008501</td>\n",
       "      <td>0.020722</td>\n",
       "      <td>0.023751</td>\n",
       "      <td>-0.031082</td>\n",
       "      <td>0.030528</td>\n",
       "      <td>0.070848</td>\n",
       "      <td>0.035514</td>\n",
       "      <td>0.015235</td>\n",
       "      <td>...</td>\n",
       "      <td>-0.048925</td>\n",
       "      <td>0.355422</td>\n",
       "      <td>-0.065980</td>\n",
       "      <td>-0.044890</td>\n",
       "      <td>-0.101462</td>\n",
       "      <td>0.071130</td>\n",
       "      <td>0.111578</td>\n",
       "      <td>0.002306</td>\n",
       "      <td>-0.036829</td>\n",
       "      <td>0.198501</td>\n",
       "    </tr>\n",
       "    <tr>\n",
       "      <th>ALTER_HH</th>\n",
       "      <td>0.047859</td>\n",
       "      <td>-0.030591</td>\n",
       "      <td>-0.007135</td>\n",
       "      <td>-0.014530</td>\n",
       "      <td>0.130359</td>\n",
       "      <td>0.013278</td>\n",
       "      <td>-0.004252</td>\n",
       "      <td>0.003024</td>\n",
       "      <td>0.024499</td>\n",
       "      <td>-0.023124</td>\n",
       "      <td>...</td>\n",
       "      <td>-0.034489</td>\n",
       "      <td>0.025003</td>\n",
       "      <td>-0.015027</td>\n",
       "      <td>-0.065478</td>\n",
       "      <td>0.024842</td>\n",
       "      <td>0.045312</td>\n",
       "      <td>-0.026247</td>\n",
       "      <td>-0.038433</td>\n",
       "      <td>-0.053796</td>\n",
       "      <td>0.071161</td>\n",
       "    </tr>\n",
       "    <tr>\n",
       "      <th>ALTERSKATEGORIE_FEIN</th>\n",
       "      <td>0.027007</td>\n",
       "      <td>-0.018714</td>\n",
       "      <td>-0.021039</td>\n",
       "      <td>-0.009999</td>\n",
       "      <td>0.151298</td>\n",
       "      <td>-0.021132</td>\n",
       "      <td>0.027949</td>\n",
       "      <td>0.090238</td>\n",
       "      <td>0.072142</td>\n",
       "      <td>-0.005435</td>\n",
       "      <td>...</td>\n",
       "      <td>0.042943</td>\n",
       "      <td>-0.004397</td>\n",
       "      <td>0.042945</td>\n",
       "      <td>-0.022413</td>\n",
       "      <td>0.030851</td>\n",
       "      <td>-0.001259</td>\n",
       "      <td>0.002037</td>\n",
       "      <td>0.104836</td>\n",
       "      <td>-0.018156</td>\n",
       "      <td>0.002602</td>\n",
       "    </tr>\n",
       "    <tr>\n",
       "      <th>ANZ_HAUSHALTE_AKTIV</th>\n",
       "      <td>-0.037020</td>\n",
       "      <td>0.069390</td>\n",
       "      <td>-0.027416</td>\n",
       "      <td>0.039275</td>\n",
       "      <td>0.005466</td>\n",
       "      <td>-0.032601</td>\n",
       "      <td>0.057172</td>\n",
       "      <td>-0.021299</td>\n",
       "      <td>-0.037834</td>\n",
       "      <td>0.092919</td>\n",
       "      <td>...</td>\n",
       "      <td>0.017333</td>\n",
       "      <td>0.005803</td>\n",
       "      <td>0.009473</td>\n",
       "      <td>-0.000729</td>\n",
       "      <td>0.008361</td>\n",
       "      <td>-0.034089</td>\n",
       "      <td>0.006383</td>\n",
       "      <td>-0.010394</td>\n",
       "      <td>-0.009566</td>\n",
       "      <td>0.006291</td>\n",
       "    </tr>\n",
       "    <tr>\n",
       "      <th>...</th>\n",
       "      <td>...</td>\n",
       "      <td>...</td>\n",
       "      <td>...</td>\n",
       "      <td>...</td>\n",
       "      <td>...</td>\n",
       "      <td>...</td>\n",
       "      <td>...</td>\n",
       "      <td>...</td>\n",
       "      <td>...</td>\n",
       "      <td>...</td>\n",
       "      <td>...</td>\n",
       "      <td>...</td>\n",
       "      <td>...</td>\n",
       "      <td>...</td>\n",
       "      <td>...</td>\n",
       "      <td>...</td>\n",
       "      <td>...</td>\n",
       "      <td>...</td>\n",
       "      <td>...</td>\n",
       "      <td>...</td>\n",
       "      <td>...</td>\n",
       "    </tr>\n",
       "    <tr>\n",
       "      <th>WOHNDAUER_2008</th>\n",
       "      <td>0.019467</td>\n",
       "      <td>-0.018647</td>\n",
       "      <td>0.008436</td>\n",
       "      <td>-0.032827</td>\n",
       "      <td>-0.045041</td>\n",
       "      <td>0.051437</td>\n",
       "      <td>-0.040234</td>\n",
       "      <td>-0.084300</td>\n",
       "      <td>-0.025935</td>\n",
       "      <td>-0.026582</td>\n",
       "      <td>...</td>\n",
       "      <td>-0.046755</td>\n",
       "      <td>0.132396</td>\n",
       "      <td>-0.064814</td>\n",
       "      <td>-0.019063</td>\n",
       "      <td>-0.032035</td>\n",
       "      <td>0.008336</td>\n",
       "      <td>0.019578</td>\n",
       "      <td>-0.024058</td>\n",
       "      <td>-0.009438</td>\n",
       "      <td>0.094951</td>\n",
       "    </tr>\n",
       "    <tr>\n",
       "      <th>WOHNLAGE</th>\n",
       "      <td>0.024368</td>\n",
       "      <td>-0.098091</td>\n",
       "      <td>-0.035403</td>\n",
       "      <td>0.023102</td>\n",
       "      <td>-0.006300</td>\n",
       "      <td>-0.128635</td>\n",
       "      <td>0.051868</td>\n",
       "      <td>-0.041494</td>\n",
       "      <td>-0.058522</td>\n",
       "      <td>0.013240</td>\n",
       "      <td>...</td>\n",
       "      <td>-0.061757</td>\n",
       "      <td>-0.026488</td>\n",
       "      <td>-0.111856</td>\n",
       "      <td>0.063016</td>\n",
       "      <td>0.144846</td>\n",
       "      <td>-0.031515</td>\n",
       "      <td>-0.132509</td>\n",
       "      <td>-0.024786</td>\n",
       "      <td>-0.017193</td>\n",
       "      <td>0.062216</td>\n",
       "    </tr>\n",
       "    <tr>\n",
       "      <th>ZABEOTYP</th>\n",
       "      <td>-0.073981</td>\n",
       "      <td>0.022277</td>\n",
       "      <td>-0.056093</td>\n",
       "      <td>0.023373</td>\n",
       "      <td>0.029680</td>\n",
       "      <td>-0.038893</td>\n",
       "      <td>0.059449</td>\n",
       "      <td>0.037730</td>\n",
       "      <td>-0.014541</td>\n",
       "      <td>0.074454</td>\n",
       "      <td>...</td>\n",
       "      <td>-0.058457</td>\n",
       "      <td>0.052283</td>\n",
       "      <td>-0.065036</td>\n",
       "      <td>0.125398</td>\n",
       "      <td>0.060386</td>\n",
       "      <td>-0.126800</td>\n",
       "      <td>-0.001760</td>\n",
       "      <td>-0.000875</td>\n",
       "      <td>0.035921</td>\n",
       "      <td>-0.065207</td>\n",
       "    </tr>\n",
       "    <tr>\n",
       "      <th>ANREDE_KZ</th>\n",
       "      <td>-0.047979</td>\n",
       "      <td>-0.000082</td>\n",
       "      <td>-0.017977</td>\n",
       "      <td>0.012370</td>\n",
       "      <td>0.032795</td>\n",
       "      <td>-0.019831</td>\n",
       "      <td>0.051116</td>\n",
       "      <td>0.045570</td>\n",
       "      <td>-0.091853</td>\n",
       "      <td>0.204541</td>\n",
       "      <td>...</td>\n",
       "      <td>0.001086</td>\n",
       "      <td>0.024349</td>\n",
       "      <td>-0.008648</td>\n",
       "      <td>0.014879</td>\n",
       "      <td>0.015859</td>\n",
       "      <td>0.002250</td>\n",
       "      <td>0.015212</td>\n",
       "      <td>-0.006696</td>\n",
       "      <td>-0.034333</td>\n",
       "      <td>0.014560</td>\n",
       "    </tr>\n",
       "    <tr>\n",
       "      <th>ALTERSKATEGORIE_GROB</th>\n",
       "      <td>0.100475</td>\n",
       "      <td>0.064912</td>\n",
       "      <td>-0.019309</td>\n",
       "      <td>0.026207</td>\n",
       "      <td>-0.131682</td>\n",
       "      <td>-0.032194</td>\n",
       "      <td>0.019463</td>\n",
       "      <td>-0.003060</td>\n",
       "      <td>-0.019271</td>\n",
       "      <td>0.027664</td>\n",
       "      <td>...</td>\n",
       "      <td>-0.007935</td>\n",
       "      <td>-0.000002</td>\n",
       "      <td>-0.009588</td>\n",
       "      <td>0.031850</td>\n",
       "      <td>0.012681</td>\n",
       "      <td>0.027708</td>\n",
       "      <td>0.010717</td>\n",
       "      <td>-0.025608</td>\n",
       "      <td>-0.003531</td>\n",
       "      <td>0.006450</td>\n",
       "    </tr>\n",
       "  </tbody>\n",
       "</table>\n",
       "<p>356 rows × 114 columns</p>\n",
       "</div>"
      ],
      "text/plain": [
       "                           0         1         2         3         4    \\\n",
       "AGER_TYP              0.076830  0.068152 -0.011834  0.015918 -0.121664   \n",
       "AKT_DAT_KL           -0.020623  0.017693 -0.008501  0.020722  0.023751   \n",
       "ALTER_HH              0.047859 -0.030591 -0.007135 -0.014530  0.130359   \n",
       "ALTERSKATEGORIE_FEIN  0.027007 -0.018714 -0.021039 -0.009999  0.151298   \n",
       "ANZ_HAUSHALTE_AKTIV  -0.037020  0.069390 -0.027416  0.039275  0.005466   \n",
       "...                        ...       ...       ...       ...       ...   \n",
       "WOHNDAUER_2008        0.019467 -0.018647  0.008436 -0.032827 -0.045041   \n",
       "WOHNLAGE              0.024368 -0.098091 -0.035403  0.023102 -0.006300   \n",
       "ZABEOTYP             -0.073981  0.022277 -0.056093  0.023373  0.029680   \n",
       "ANREDE_KZ            -0.047979 -0.000082 -0.017977  0.012370  0.032795   \n",
       "ALTERSKATEGORIE_GROB  0.100475  0.064912 -0.019309  0.026207 -0.131682   \n",
       "\n",
       "                           5         6         7         8         9    ...  \\\n",
       "AGER_TYP              0.009225 -0.007385 -0.039042 -0.070822  0.023407  ...   \n",
       "AKT_DAT_KL           -0.031082  0.030528  0.070848  0.035514  0.015235  ...   \n",
       "ALTER_HH              0.013278 -0.004252  0.003024  0.024499 -0.023124  ...   \n",
       "ALTERSKATEGORIE_FEIN -0.021132  0.027949  0.090238  0.072142 -0.005435  ...   \n",
       "ANZ_HAUSHALTE_AKTIV  -0.032601  0.057172 -0.021299 -0.037834  0.092919  ...   \n",
       "...                        ...       ...       ...       ...       ...  ...   \n",
       "WOHNDAUER_2008        0.051437 -0.040234 -0.084300 -0.025935 -0.026582  ...   \n",
       "WOHNLAGE             -0.128635  0.051868 -0.041494 -0.058522  0.013240  ...   \n",
       "ZABEOTYP             -0.038893  0.059449  0.037730 -0.014541  0.074454  ...   \n",
       "ANREDE_KZ            -0.019831  0.051116  0.045570 -0.091853  0.204541  ...   \n",
       "ALTERSKATEGORIE_GROB -0.032194  0.019463 -0.003060 -0.019271  0.027664  ...   \n",
       "\n",
       "                           104       105       106       107       108  \\\n",
       "AGER_TYP             -0.030423  0.001152  0.006995  0.037386 -0.088395   \n",
       "AKT_DAT_KL           -0.048925  0.355422 -0.065980 -0.044890 -0.101462   \n",
       "ALTER_HH             -0.034489  0.025003 -0.015027 -0.065478  0.024842   \n",
       "ALTERSKATEGORIE_FEIN  0.042943 -0.004397  0.042945 -0.022413  0.030851   \n",
       "ANZ_HAUSHALTE_AKTIV   0.017333  0.005803  0.009473 -0.000729  0.008361   \n",
       "...                        ...       ...       ...       ...       ...   \n",
       "WOHNDAUER_2008       -0.046755  0.132396 -0.064814 -0.019063 -0.032035   \n",
       "WOHNLAGE             -0.061757 -0.026488 -0.111856  0.063016  0.144846   \n",
       "ZABEOTYP             -0.058457  0.052283 -0.065036  0.125398  0.060386   \n",
       "ANREDE_KZ             0.001086  0.024349 -0.008648  0.014879  0.015859   \n",
       "ALTERSKATEGORIE_GROB -0.007935 -0.000002 -0.009588  0.031850  0.012681   \n",
       "\n",
       "                           109       110       111       112       113  \n",
       "AGER_TYP              0.017877  0.022929 -0.094739  0.067385  0.036404  \n",
       "AKT_DAT_KL            0.071130  0.111578  0.002306 -0.036829  0.198501  \n",
       "ALTER_HH              0.045312 -0.026247 -0.038433 -0.053796  0.071161  \n",
       "ALTERSKATEGORIE_FEIN -0.001259  0.002037  0.104836 -0.018156  0.002602  \n",
       "ANZ_HAUSHALTE_AKTIV  -0.034089  0.006383 -0.010394 -0.009566  0.006291  \n",
       "...                        ...       ...       ...       ...       ...  \n",
       "WOHNDAUER_2008        0.008336  0.019578 -0.024058 -0.009438  0.094951  \n",
       "WOHNLAGE             -0.031515 -0.132509 -0.024786 -0.017193  0.062216  \n",
       "ZABEOTYP             -0.126800 -0.001760 -0.000875  0.035921 -0.065207  \n",
       "ANREDE_KZ             0.002250  0.015212 -0.006696 -0.034333  0.014560  \n",
       "ALTERSKATEGORIE_GROB  0.027708  0.010717 -0.025608 -0.003531  0.006450  \n",
       "\n",
       "[356 rows x 114 columns]"
      ]
     },
     "execution_count": 69,
     "metadata": {},
     "output_type": "execute_result"
    }
   ],
   "source": [
    "customer_pca_T = customer_pca.T\n",
    "customer_pca_T"
   ]
  },
  {
   "cell_type": "code",
   "execution_count": 86,
   "metadata": {},
   "outputs": [
    {
     "data": {
      "text/plain": [
       "LP_FAMILIE_GROB            0.130348\n",
       "D19_GESAMT_ANZ_24          0.134061\n",
       "LP_LEBENSPHASE_GROB        0.134193\n",
       "EINGEFUEGT_AM              0.134850\n",
       "LP_LEBENSPHASE_FEIN        0.138670\n",
       "D19_GESAMT_DATUM          -0.141685\n",
       "KOMBIALTER                -0.137905\n",
       "D19_KONSUMTYP_MAX         -0.137382\n",
       "D19_VERSAND_DATUM         -0.132983\n",
       "D19_GESAMT_ONLINE_DATUM   -0.125505\n",
       "Name: 0, dtype: float64"
      ]
     },
     "execution_count": 86,
     "metadata": {},
     "output_type": "execute_result"
    }
   ],
   "source": [
    "# Component #0, looking at top & bottom 5\n",
    "component_0 = customer_pca_T[0].sort_values(ascending=True)\n",
    "component_0_bottom = component_0.head(5)\n",
    "component_0_top = component_0.tail(5)\n",
    "component_0_sel = pd.concat([component_0_top, component_0_bottom], axis=0)\n",
    "component_0_sel"
   ]
  },
  {
   "cell_type": "code",
   "execution_count": 87,
   "metadata": {},
   "outputs": [
    {
     "data": {
      "text/plain": [
       "<function matplotlib.pyplot.show(close=None, block=None)>"
      ]
     },
     "execution_count": 87,
     "metadata": {},
     "output_type": "execute_result"
    },
    {
     "data": {
      "image/png": "[encoded data removed]",
      "text/plain": [
       "<Figure size 2000x400 with 1 Axes>"
      ]
     },
     "metadata": {},
     "output_type": "display_data"
    }
   ],
   "source": [
    "ax = component_0_sel.plot(kind=\"bar\", figsize=(20,4));\n",
    "plt.xlabel('Attributes')\n",
    "plt.ylabel('Attribute Weight')\n",
    "plt.show"
   ]
  },
  {
   "attachments": {},
   "cell_type": "markdown",
   "metadata": {},
   "source": [
    "***Component 0***\n",
    "High positive weight to XX\n",
    "High negative weight to XX"
   ]
  },
  {
   "cell_type": "code",
   "execution_count": 88,
   "metadata": {},
   "outputs": [
    {
     "data": {
      "text/plain": [
       "KBA13_ANTG4             0.135224\n",
       "PLZ8_ANTG3              0.144627\n",
       "KBA13_ANTG3             0.147063\n",
       "ORTSGR_KLS9             0.150415\n",
       "EWDICHTE                0.159378\n",
       "KBA13_ALTERHALTER_60   -0.149977\n",
       "KBA13_AUTOQUOTE        -0.144168\n",
       "GEMEINDETYP            -0.141629\n",
       "KBA13_HALTER_55        -0.140198\n",
       "KBA13_HALTER_50        -0.138256\n",
       "Name: 1, dtype: float64"
      ]
     },
     "execution_count": 88,
     "metadata": {},
     "output_type": "execute_result"
    }
   ],
   "source": [
    "# Component #1, looking at top & bottom 5\n",
    "component_1 = customer_pca_T[1].sort_values(ascending=True)\n",
    "component_1_bottom = component_1.head(5)\n",
    "component_1_top = component_1.tail(5)\n",
    "component_1_sel = pd.concat([component_1_top, component_1_bottom], axis=0)\n",
    "component_1_sel"
   ]
  },
  {
   "cell_type": "code",
   "execution_count": 89,
   "metadata": {},
   "outputs": [
    {
     "data": {
      "text/plain": [
       "<function matplotlib.pyplot.show(close=None, block=None)>"
      ]
     },
     "execution_count": 89,
     "metadata": {},
     "output_type": "execute_result"
    },
    {
     "data": {
      "image/png": "[encoded data removed]",
      "text/plain": [
       "<Figure size 2000x400 with 1 Axes>"
      ]
     },
     "metadata": {},
     "output_type": "display_data"
    }
   ],
   "source": [
    "ax = component_1_sel.plot(kind=\"bar\", figsize=(20,4));\n",
    "plt.xlabel('Attributes')\n",
    "plt.ylabel('Attribute Weight')\n",
    "plt.show"
   ]
  },
  {
   "attachments": {},
   "cell_type": "markdown",
   "metadata": {},
   "source": [
    "***Component 1***\n",
    "High positive weight to XX\n",
    "High negative weight to XX"
   ]
  },
  {
   "cell_type": "code",
   "execution_count": 90,
   "metadata": {},
   "outputs": [
    {
     "data": {
      "text/plain": [
       "KBA05_MOD1              0.125396\n",
       "KBA05_MOTOR             0.130335\n",
       "KBA05_HERST1            0.130730\n",
       "KBA13_HERST_BMW_BENZ    0.135540\n",
       "KBA05_KW3               0.135999\n",
       "KBA13_KW_0_60          -0.137339\n",
       "KBA13_KMH_180          -0.135813\n",
       "HH_EINKOMMEN_SCORE     -0.125127\n",
       "KBA13_SEG_KLEINWAGEN   -0.116763\n",
       "KBA13_KMH_140_210      -0.115263\n",
       "Name: 2, dtype: float64"
      ]
     },
     "execution_count": 90,
     "metadata": {},
     "output_type": "execute_result"
    }
   ],
   "source": [
    "# Component #2, looking at top & bottom 5\n",
    "component_2 = customer_pca_T[2].sort_values(ascending=True)\n",
    "component_2_bottom = component_2.head(5)\n",
    "component_2_top = component_2.tail(5)\n",
    "component_2_sel = pd.concat([component_2_top, component_2_bottom], axis=0)\n",
    "component_2_sel"
   ]
  },
  {
   "cell_type": "code",
   "execution_count": 91,
   "metadata": {},
   "outputs": [
    {
     "data": {
      "text/plain": [
       "<function matplotlib.pyplot.show(close=None, block=None)>"
      ]
     },
     "execution_count": 91,
     "metadata": {},
     "output_type": "execute_result"
    },
    {
     "data": {
      "image/png": "[encoded data removed]",
      "text/plain": [
       "<Figure size 2000x400 with 1 Axes>"
      ]
     },
     "metadata": {},
     "output_type": "display_data"
    }
   ],
   "source": [
    "ax = component_2_sel.plot(kind=\"bar\", figsize=(20,4));\n",
    "plt.xlabel('Attributes')\n",
    "plt.ylabel('Attribute Weight')\n",
    "plt.show"
   ]
  },
  {
   "attachments": {},
   "cell_type": "markdown",
   "metadata": {},
   "source": [
    "***Component 2***\n",
    "High positive weight to XX\n",
    "High negative weight to XX"
   ]
  },
  {
   "cell_type": "markdown",
   "metadata": {},
   "source": [
    "## Part 2: Supervised Learning Model\n",
    "\n",
    "Now that you've found which parts of the population are more likely to be customers of the mail-order company, it's time to build a prediction model. Each of the rows in the \"MAILOUT\" data files represents an individual that was targeted for a mailout campaign. Ideally, we should be able to use the demographic information from each individual to decide whether or not it will be worth it to include that person in the campaign.\n",
    "\n",
    "The \"MAILOUT\" data has been split into two approximately equal parts, each with almost 43 000 data rows. In this part, you can verify your model with the \"TRAIN\" partition, which includes a column, \"RESPONSE\", that states whether or not a person became a customer of the company following the campaign. In the next part, you'll need to create predictions on the \"TEST\" partition, where the \"RESPONSE\" column has been withheld."
   ]
  },
  {
   "cell_type": "code",
   "execution_count": null,
   "metadata": {},
   "outputs": [],
   "source": [
    "mailout_train = pd.read_csv('../../data/Term2/capstone/arvato_data/Udacity_MAILOUT_052018_TRAIN.csv', sep=';')"
   ]
  },
  {
   "cell_type": "code",
   "execution_count": null,
   "metadata": {},
   "outputs": [],
   "source": []
  },
  {
   "cell_type": "code",
   "execution_count": null,
   "metadata": {},
   "outputs": [],
   "source": []
  }
 ],
 "metadata": {
  "kernelspec": {
   "display_name": ".venv",
   "language": "python",
   "name": "python3"
  },
  "language_info": {
   "codemirror_mode": {
    "name": "ipython",
    "version": 3
   },
   "file_extension": ".py",
   "mimetype": "text/x-python",
   "name": "python",
   "nbconvert_exporter": "python",
   "pygments_lexer": "ipython3",
   "version": "3.10.4"
  },
  "vscode": {
   "interpreter": {
    "hash": "b3dd9c12b4ae4d77f6dff666aa2f03cec29f2cdbe9c625ef34ea045e170bdaad"
   }
  }
 },
 "nbformat": 4,
 "nbformat_minor": 2
}
